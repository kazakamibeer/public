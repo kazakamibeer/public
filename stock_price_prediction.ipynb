{
 "cells": [
  {
   "cell_type": "markdown",
   "id": "4ecbe036",
   "metadata": {
    "papermill": {
     "duration": 0.012239,
     "end_time": "2025-06-22T14:32:19.162067",
     "exception": false,
     "start_time": "2025-06-22T14:32:19.149828",
     "status": "completed"
    },
    "tags": []
   },
   "source": [
    "# 0) 概論\n",
    "### このNotebookでは、大まかに以下の方法で株価など時系列データの未来予測を行う\n",
    "一年ほどを掛けて精度を上げていく予定。いずれは自動売買の予想モデルとして使用したい。  \n",
    "2026年夏頃の完成を目指す。  \n",
    "#### 論文を参考にした以下の５つのモデルでそれぞれ予測を行う  \n",
    "- LSTM\n",
    "- Bidirectional LSTM + Attention\n",
    "- Transformer\n",
    "- Informer\n",
    "- Autoformer  \n",
    "#### ５つのモデルの精度を考慮しつつ、結果をアンサンブルする\n",
    "上記５モデルが未完成のため、現状は机上の空論のみで簡易なコードを作成。  \n",
    "５モデルの出力に加えて、相関・逆相関のある金融の指数を特徴量として加える。  \n",
    "アンサンブルのメタモデルには、学習性能を弱めたRandomForestを使おうと考えている。  "
   ]
  },
  {
   "cell_type": "markdown",
   "id": "40be7863",
   "metadata": {
    "papermill": {
     "duration": 0.00725,
     "end_time": "2025-06-22T14:32:19.179321",
     "exception": false,
     "start_time": "2025-06-22T14:32:19.172071",
     "status": "completed"
    },
    "tags": []
   },
   "source": [
    "## 準備としてサンプルの株価を取得\n",
    "Googleの株価をstooqより取得し実験"
   ]
  },
  {
   "cell_type": "code",
   "execution_count": 1,
   "id": "0ba305ac",
   "metadata": {
    "execution": {
     "iopub.execute_input": "2025-06-22T14:32:19.197855Z",
     "iopub.status.busy": "2025-06-22T14:32:19.197354Z",
     "iopub.status.idle": "2025-06-22T14:32:42.727738Z",
     "shell.execute_reply": "2025-06-22T14:32:42.726308Z"
    },
    "papermill": {
     "duration": 23.542175,
     "end_time": "2025-06-22T14:32:42.729967",
     "exception": false,
     "start_time": "2025-06-22T14:32:19.187792",
     "status": "completed"
    },
    "tags": []
   },
   "outputs": [
    {
     "name": "stderr",
     "output_type": "stream",
     "text": [
      "2025-06-22 14:32:25.622858: E external/local_xla/xla/stream_executor/cuda/cuda_fft.cc:477] Unable to register cuFFT factory: Attempting to register factory for plugin cuFFT when one has already been registered\n",
      "WARNING: All log messages before absl::InitializeLog() is called are written to STDERR\n",
      "E0000 00:00:1750602745.863429      13 cuda_dnn.cc:8310] Unable to register cuDNN factory: Attempting to register factory for plugin cuDNN when one has already been registered\n",
      "E0000 00:00:1750602745.935296      13 cuda_blas.cc:1418] Unable to register cuBLAS factory: Attempting to register factory for plugin cuBLAS when one has already been registered\n"
     ]
    }
   ],
   "source": [
    "import numpy as np\n",
    "import pandas as pd\n",
    "\n",
    "from sklearn.metrics import mean_squared_error, mean_absolute_error, r2_score\n",
    "from pandas_datareader import data as pdr\n",
    "import pandas_datareader.data as pdr\n",
    "from datetime import datetime\n",
    "from keras.models import Sequential\n",
    "from keras.layers import Dense, LSTM, Dropout\n",
    "import matplotlib.pyplot as plt\n",
    "plt.style.use(\"fivethirtyeight\")\n",
    "%matplotlib inline"
   ]
  },
  {
   "cell_type": "code",
   "execution_count": 2,
   "id": "c75fd9be",
   "metadata": {
    "execution": {
     "iopub.execute_input": "2025-06-22T14:32:42.747380Z",
     "iopub.status.busy": "2025-06-22T14:32:42.746575Z",
     "iopub.status.idle": "2025-06-22T14:32:43.038559Z",
     "shell.execute_reply": "2025-06-22T14:32:43.037314Z"
    },
    "papermill": {
     "duration": 0.302874,
     "end_time": "2025-06-22T14:32:43.040738",
     "exception": false,
     "start_time": "2025-06-22T14:32:42.737864",
     "status": "completed"
    },
    "tags": []
   },
   "outputs": [
    {
     "data": {
      "text/html": [
       "<div>\n",
       "<style scoped>\n",
       "    .dataframe tbody tr th:only-of-type {\n",
       "        vertical-align: middle;\n",
       "    }\n",
       "\n",
       "    .dataframe tbody tr th {\n",
       "        vertical-align: top;\n",
       "    }\n",
       "\n",
       "    .dataframe thead th {\n",
       "        text-align: right;\n",
       "    }\n",
       "</style>\n",
       "<table border=\"1\" class=\"dataframe\">\n",
       "  <thead>\n",
       "    <tr style=\"text-align: right;\">\n",
       "      <th></th>\n",
       "      <th>Open</th>\n",
       "      <th>High</th>\n",
       "      <th>Low</th>\n",
       "      <th>Close</th>\n",
       "      <th>Volume</th>\n",
       "    </tr>\n",
       "    <tr>\n",
       "      <th>Date</th>\n",
       "      <th></th>\n",
       "      <th></th>\n",
       "      <th></th>\n",
       "      <th></th>\n",
       "      <th></th>\n",
       "    </tr>\n",
       "  </thead>\n",
       "  <tbody>\n",
       "    <tr>\n",
       "      <th>2014-03-27</th>\n",
       "      <td>28.4000</td>\n",
       "      <td>28.4000</td>\n",
       "      <td>27.6460</td>\n",
       "      <td>27.9230</td>\n",
       "      <td>261040</td>\n",
       "    </tr>\n",
       "    <tr>\n",
       "      <th>2014-03-28</th>\n",
       "      <td>28.0600</td>\n",
       "      <td>28.3215</td>\n",
       "      <td>27.9335</td>\n",
       "      <td>27.9995</td>\n",
       "      <td>820060</td>\n",
       "    </tr>\n",
       "    <tr>\n",
       "      <th>2014-03-31</th>\n",
       "      <td>28.3445</td>\n",
       "      <td>28.3500</td>\n",
       "      <td>27.8465</td>\n",
       "      <td>27.8485</td>\n",
       "      <td>215440</td>\n",
       "    </tr>\n",
       "    <tr>\n",
       "      <th>2014-04-01</th>\n",
       "      <td>27.9355</td>\n",
       "      <td>28.4225</td>\n",
       "      <td>27.9355</td>\n",
       "      <td>28.3580</td>\n",
       "      <td>158640</td>\n",
       "    </tr>\n",
       "    <tr>\n",
       "      <th>2014-04-02</th>\n",
       "      <td>29.9995</td>\n",
       "      <td>30.2415</td>\n",
       "      <td>28.1095</td>\n",
       "      <td>28.3500</td>\n",
       "      <td>2933940</td>\n",
       "    </tr>\n",
       "  </tbody>\n",
       "</table>\n",
       "</div>"
      ],
      "text/plain": [
       "               Open     High      Low    Close   Volume\n",
       "Date                                                   \n",
       "2014-03-27  28.4000  28.4000  27.6460  27.9230   261040\n",
       "2014-03-28  28.0600  28.3215  27.9335  27.9995   820060\n",
       "2014-03-31  28.3445  28.3500  27.8465  27.8485   215440\n",
       "2014-04-01  27.9355  28.4225  27.9355  28.3580   158640\n",
       "2014-04-02  29.9995  30.2415  28.1095  28.3500  2933940"
      ]
     },
     "execution_count": 2,
     "metadata": {},
     "output_type": "execute_result"
    }
   ],
   "source": [
    "ticker_symbole = 'GOOG.US' \n",
    "start = '2014-01-01'\n",
    "end   = datetime.now()\n",
    "data = pdr.DataReader(ticker_symbole, 'stooq', start=start, end=end)\n",
    "\n",
    "# dataには新しい順に数値が入っている 時系列にしたいので、逆順にソート\n",
    "data = data.iloc[::-1]  \n",
    "data.head()"
   ]
  },
  {
   "cell_type": "markdown",
   "id": "8ca33626",
   "metadata": {
    "papermill": {
     "duration": 0.007183,
     "end_time": "2025-06-22T14:32:43.055347",
     "exception": false,
     "start_time": "2025-06-22T14:32:43.048164",
     "status": "completed"
    },
    "tags": []
   },
   "source": [
    "主要な指標の求め方を忘備録代わりに書いておく。  \n",
    "MACDとRSIは特徴量として予測に使用する。"
   ]
  },
  {
   "cell_type": "code",
   "execution_count": 3,
   "id": "ac58c81e",
   "metadata": {
    "collapsed": true,
    "execution": {
     "iopub.execute_input": "2025-06-22T14:32:43.073544Z",
     "iopub.status.busy": "2025-06-22T14:32:43.071959Z",
     "iopub.status.idle": "2025-06-22T14:32:43.522727Z",
     "shell.execute_reply": "2025-06-22T14:32:43.521334Z"
    },
    "jupyter": {
     "outputs_hidden": true
    },
    "papermill": {
     "duration": 0.468021,
     "end_time": "2025-06-22T14:32:43.531491",
     "exception": false,
     "start_time": "2025-06-22T14:32:43.063470",
     "status": "completed"
    },
    "tags": []
   },
   "outputs": [
    {
     "name": "stderr",
     "output_type": "stream",
     "text": [
      "/usr/local/lib/python3.11/dist-packages/pandas/core/computation/expressions.py:73: RuntimeWarning: invalid value encountered in greater\n",
      "  return op(a, b)\n",
      "/usr/local/lib/python3.11/dist-packages/pandas/core/computation/expressions.py:73: RuntimeWarning: invalid value encountered in less\n",
      "  return op(a, b)\n",
      "/usr/local/lib/python3.11/dist-packages/pandas/core/computation/expressions.py:73: RuntimeWarning: invalid value encountered in greater\n",
      "  return op(a, b)\n",
      "/usr/local/lib/python3.11/dist-packages/pandas/core/computation/expressions.py:73: RuntimeWarning: invalid value encountered in less\n",
      "  return op(a, b)\n"
     ]
    },
    {
     "data": {
      "image/png": "[encoded data removed]",
      "text/plain": [
       "<Figure size 640x480 with 1 Axes>"
      ]
     },
     "metadata": {},
     "output_type": "display_data"
    }
   ],
   "source": [
    "#-- 移動平均 --#\n",
    "ma_day = [20, 50, 100]\n",
    "for ma in ma_day:\n",
    "    column_name = f\"MA for {ma} days\"\n",
    "    data[column_name] = data['Close'].rolling(ma).mean()\n",
    "\n",
    "#-- MACD --#\n",
    "short_period = 12\n",
    "long_period = 26\n",
    "signal_period = 9\n",
    "# 短期と長期のEMA（指数平滑移動平均）を計算\n",
    "data['EMA_short'] = data['Close'].ewm(span=short_period, adjust=False).mean()\n",
    "data['EMA_long'] = data['Close'].ewm(span=long_period, adjust=False).mean()\n",
    "# MACDラインを計算\n",
    "data['MACD'] = data['EMA_short'] - data['EMA_long']\n",
    "# シグナルラインを計算\n",
    "data['Signal'] = data['MACD'].ewm(span=signal_period, adjust=False).mean()\n",
    "# MACDヒストグラムを計算\n",
    "data['MACD_Histogram'] = data['MACD'] - data['Signal']\n",
    "\n",
    "#-- RSI --#\n",
    "def calc_rsi(period, delta):\n",
    "    gain = delta.where(delta > 0, 0)\n",
    "    loss = -delta.where(delta < 0, 0)\n",
    "    avg_gain = gain.rolling(period).mean()\n",
    "    avg_loss = loss.rolling(period).mean()\n",
    "    rsi = 100 *(avg_gain/(avg_gain+avg_loss))\n",
    "    return rsi\n",
    "delta = data['Close'].diff()\n",
    "data['RSI9'] = calc_rsi(9, delta)\n",
    "data['RSI14'] = calc_rsi(14, delta)\n",
    "\n",
    "plt.title(ticker_symbole + ' Close Price MA History')\n",
    "plt.plot(data['Close'][-500:])           # 最新500日のみ表示\n",
    "plt.plot(data['MA for 20 days'][-500:])\n",
    "plt.plot(data['MA for 50 days'][-500:])\n",
    "plt.plot(data['MA for 100 days'][-500:])\n",
    "plt.xlabel('Date', fontsize=14)\n",
    "plt.ylabel('Close Price USD ($)', fontsize=14)\n",
    "plt.legend(['Close', 'MA for 20 days', 'MA for 50 days', 'MA for 100 days'], loc='upper right')\n",
    "plt.show()"
   ]
  },
  {
   "cell_type": "code",
   "execution_count": 4,
   "id": "e80db5b5",
   "metadata": {
    "execution": {
     "iopub.execute_input": "2025-06-22T14:32:43.552180Z",
     "iopub.status.busy": "2025-06-22T14:32:43.551773Z",
     "iopub.status.idle": "2025-06-22T14:32:43.579579Z",
     "shell.execute_reply": "2025-06-22T14:32:43.578090Z"
    },
    "papermill": {
     "duration": 0.040551,
     "end_time": "2025-06-22T14:32:43.581797",
     "exception": false,
     "start_time": "2025-06-22T14:32:43.541246",
     "status": "completed"
    },
    "tags": []
   },
   "outputs": [
    {
     "name": "stderr",
     "output_type": "stream",
     "text": [
      "/usr/local/lib/python3.11/dist-packages/pandas/io/formats/format.py:1458: RuntimeWarning: invalid value encountered in greater\n",
      "  has_large_values = (abs_vals > 1e6).any()\n",
      "/usr/local/lib/python3.11/dist-packages/pandas/io/formats/format.py:1459: RuntimeWarning: invalid value encountered in less\n",
      "  has_small_values = ((abs_vals < 10 ** (-self.digits)) & (abs_vals > 0)).any()\n",
      "/usr/local/lib/python3.11/dist-packages/pandas/io/formats/format.py:1459: RuntimeWarning: invalid value encountered in greater\n",
      "  has_small_values = ((abs_vals < 10 ** (-self.digits)) & (abs_vals > 0)).any()\n"
     ]
    },
    {
     "data": {
      "text/html": [
       "<div>\n",
       "<style scoped>\n",
       "    .dataframe tbody tr th:only-of-type {\n",
       "        vertical-align: middle;\n",
       "    }\n",
       "\n",
       "    .dataframe tbody tr th {\n",
       "        vertical-align: top;\n",
       "    }\n",
       "\n",
       "    .dataframe thead th {\n",
       "        text-align: right;\n",
       "    }\n",
       "</style>\n",
       "<table border=\"1\" class=\"dataframe\">\n",
       "  <thead>\n",
       "    <tr style=\"text-align: right;\">\n",
       "      <th></th>\n",
       "      <th>Open</th>\n",
       "      <th>High</th>\n",
       "      <th>Low</th>\n",
       "      <th>Close</th>\n",
       "      <th>Volume</th>\n",
       "      <th>MA for 20 days</th>\n",
       "      <th>MA for 50 days</th>\n",
       "      <th>MA for 100 days</th>\n",
       "      <th>EMA_short</th>\n",
       "      <th>EMA_long</th>\n",
       "      <th>MACD</th>\n",
       "      <th>Signal</th>\n",
       "      <th>MACD_Histogram</th>\n",
       "      <th>RSI9</th>\n",
       "      <th>RSI14</th>\n",
       "    </tr>\n",
       "    <tr>\n",
       "      <th>Date</th>\n",
       "      <th></th>\n",
       "      <th></th>\n",
       "      <th></th>\n",
       "      <th></th>\n",
       "      <th></th>\n",
       "      <th></th>\n",
       "      <th></th>\n",
       "      <th></th>\n",
       "      <th></th>\n",
       "      <th></th>\n",
       "      <th></th>\n",
       "      <th></th>\n",
       "      <th></th>\n",
       "      <th></th>\n",
       "      <th></th>\n",
       "    </tr>\n",
       "  </thead>\n",
       "  <tbody>\n",
       "    <tr>\n",
       "      <th>2014-03-27</th>\n",
       "      <td>28.4000</td>\n",
       "      <td>28.4000</td>\n",
       "      <td>27.6460</td>\n",
       "      <td>27.9230</td>\n",
       "      <td>261040</td>\n",
       "      <td>NaN</td>\n",
       "      <td>NaN</td>\n",
       "      <td>NaN</td>\n",
       "      <td>27.923000</td>\n",
       "      <td>27.923000</td>\n",
       "      <td>0.000000</td>\n",
       "      <td>0.000000</td>\n",
       "      <td>0.000000</td>\n",
       "      <td>NaN</td>\n",
       "      <td>NaN</td>\n",
       "    </tr>\n",
       "    <tr>\n",
       "      <th>2014-03-28</th>\n",
       "      <td>28.0600</td>\n",
       "      <td>28.3215</td>\n",
       "      <td>27.9335</td>\n",
       "      <td>27.9995</td>\n",
       "      <td>820060</td>\n",
       "      <td>NaN</td>\n",
       "      <td>NaN</td>\n",
       "      <td>NaN</td>\n",
       "      <td>27.934769</td>\n",
       "      <td>27.928667</td>\n",
       "      <td>0.006103</td>\n",
       "      <td>0.001221</td>\n",
       "      <td>0.004882</td>\n",
       "      <td>NaN</td>\n",
       "      <td>NaN</td>\n",
       "    </tr>\n",
       "    <tr>\n",
       "      <th>2014-03-31</th>\n",
       "      <td>28.3445</td>\n",
       "      <td>28.3500</td>\n",
       "      <td>27.8465</td>\n",
       "      <td>27.8485</td>\n",
       "      <td>215440</td>\n",
       "      <td>NaN</td>\n",
       "      <td>NaN</td>\n",
       "      <td>NaN</td>\n",
       "      <td>27.921497</td>\n",
       "      <td>27.922728</td>\n",
       "      <td>-0.001231</td>\n",
       "      <td>0.000730</td>\n",
       "      <td>-0.001961</td>\n",
       "      <td>NaN</td>\n",
       "      <td>NaN</td>\n",
       "    </tr>\n",
       "    <tr>\n",
       "      <th>2014-04-01</th>\n",
       "      <td>27.9355</td>\n",
       "      <td>28.4225</td>\n",
       "      <td>27.9355</td>\n",
       "      <td>28.3580</td>\n",
       "      <td>158640</td>\n",
       "      <td>NaN</td>\n",
       "      <td>NaN</td>\n",
       "      <td>NaN</td>\n",
       "      <td>27.988651</td>\n",
       "      <td>27.954971</td>\n",
       "      <td>0.033681</td>\n",
       "      <td>0.007320</td>\n",
       "      <td>0.026360</td>\n",
       "      <td>NaN</td>\n",
       "      <td>NaN</td>\n",
       "    </tr>\n",
       "    <tr>\n",
       "      <th>2014-04-02</th>\n",
       "      <td>29.9995</td>\n",
       "      <td>30.2415</td>\n",
       "      <td>28.1095</td>\n",
       "      <td>28.3500</td>\n",
       "      <td>2933940</td>\n",
       "      <td>NaN</td>\n",
       "      <td>NaN</td>\n",
       "      <td>NaN</td>\n",
       "      <td>28.044243</td>\n",
       "      <td>27.984232</td>\n",
       "      <td>0.060011</td>\n",
       "      <td>0.017858</td>\n",
       "      <td>0.042153</td>\n",
       "      <td>NaN</td>\n",
       "      <td>NaN</td>\n",
       "    </tr>\n",
       "    <tr>\n",
       "      <th>2014-04-03</th>\n",
       "      <td>28.4925</td>\n",
       "      <td>29.3640</td>\n",
       "      <td>28.2065</td>\n",
       "      <td>28.4870</td>\n",
       "      <td>101750000</td>\n",
       "      <td>NaN</td>\n",
       "      <td>NaN</td>\n",
       "      <td>NaN</td>\n",
       "      <td>28.112360</td>\n",
       "      <td>28.021474</td>\n",
       "      <td>0.090886</td>\n",
       "      <td>0.032464</td>\n",
       "      <td>0.058422</td>\n",
       "      <td>NaN</td>\n",
       "      <td>NaN</td>\n",
       "    </tr>\n",
       "    <tr>\n",
       "      <th>2014-04-04</th>\n",
       "      <td>28.7325</td>\n",
       "      <td>28.8885</td>\n",
       "      <td>27.1500</td>\n",
       "      <td>27.1570</td>\n",
       "      <td>127552000</td>\n",
       "      <td>NaN</td>\n",
       "      <td>NaN</td>\n",
       "      <td>NaN</td>\n",
       "      <td>27.965381</td>\n",
       "      <td>27.957439</td>\n",
       "      <td>0.007942</td>\n",
       "      <td>0.027560</td>\n",
       "      <td>-0.019617</td>\n",
       "      <td>NaN</td>\n",
       "      <td>NaN</td>\n",
       "    </tr>\n",
       "    <tr>\n",
       "      <th>2014-04-07</th>\n",
       "      <td>27.0370</td>\n",
       "      <td>27.4240</td>\n",
       "      <td>26.3575</td>\n",
       "      <td>26.9075</td>\n",
       "      <td>87374340</td>\n",
       "      <td>NaN</td>\n",
       "      <td>NaN</td>\n",
       "      <td>NaN</td>\n",
       "      <td>27.802630</td>\n",
       "      <td>27.879666</td>\n",
       "      <td>-0.077035</td>\n",
       "      <td>0.006641</td>\n",
       "      <td>-0.083676</td>\n",
       "      <td>NaN</td>\n",
       "      <td>NaN</td>\n",
       "    </tr>\n",
       "    <tr>\n",
       "      <th>2014-04-08</th>\n",
       "      <td>27.1535</td>\n",
       "      <td>27.7500</td>\n",
       "      <td>27.0805</td>\n",
       "      <td>27.7450</td>\n",
       "      <td>62971260</td>\n",
       "      <td>NaN</td>\n",
       "      <td>NaN</td>\n",
       "      <td>NaN</td>\n",
       "      <td>27.793764</td>\n",
       "      <td>27.869691</td>\n",
       "      <td>-0.075926</td>\n",
       "      <td>-0.009873</td>\n",
       "      <td>-0.066054</td>\n",
       "      <td>47.302213</td>\n",
       "      <td>NaN</td>\n",
       "    </tr>\n",
       "    <tr>\n",
       "      <th>2014-04-09</th>\n",
       "      <td>27.9885</td>\n",
       "      <td>28.2685</td>\n",
       "      <td>27.6475</td>\n",
       "      <td>28.2070</td>\n",
       "      <td>66471580</td>\n",
       "      <td>NaN</td>\n",
       "      <td>NaN</td>\n",
       "      <td>NaN</td>\n",
       "      <td>27.857339</td>\n",
       "      <td>27.894676</td>\n",
       "      <td>-0.037338</td>\n",
       "      <td>-0.015366</td>\n",
       "      <td>-0.021972</td>\n",
       "      <td>53.775592</td>\n",
       "      <td>NaN</td>\n",
       "    </tr>\n",
       "    <tr>\n",
       "      <th>2014-04-10</th>\n",
       "      <td>28.2495</td>\n",
       "      <td>28.2500</td>\n",
       "      <td>26.9950</td>\n",
       "      <td>27.0475</td>\n",
       "      <td>80542260</td>\n",
       "      <td>NaN</td>\n",
       "      <td>NaN</td>\n",
       "      <td>NaN</td>\n",
       "      <td>27.732748</td>\n",
       "      <td>27.831923</td>\n",
       "      <td>-0.099174</td>\n",
       "      <td>-0.032127</td>\n",
       "      <td>-0.067047</td>\n",
       "      <td>40.173410</td>\n",
       "      <td>NaN</td>\n",
       "    </tr>\n",
       "    <tr>\n",
       "      <th>2014-04-11</th>\n",
       "      <td>26.6250</td>\n",
       "      <td>27.0000</td>\n",
       "      <td>26.3265</td>\n",
       "      <td>26.5300</td>\n",
       "      <td>78312940</td>\n",
       "      <td>NaN</td>\n",
       "      <td>NaN</td>\n",
       "      <td>NaN</td>\n",
       "      <td>27.547710</td>\n",
       "      <td>27.735484</td>\n",
       "      <td>-0.187774</td>\n",
       "      <td>-0.063257</td>\n",
       "      <td>-0.124517</td>\n",
       "      <td>37.347663</td>\n",
       "      <td>NaN</td>\n",
       "    </tr>\n",
       "    <tr>\n",
       "      <th>2014-04-14</th>\n",
       "      <td>26.8870</td>\n",
       "      <td>27.2050</td>\n",
       "      <td>26.4780</td>\n",
       "      <td>26.6260</td>\n",
       "      <td>51307820</td>\n",
       "      <td>NaN</td>\n",
       "      <td>NaN</td>\n",
       "      <td>NaN</td>\n",
       "      <td>27.405909</td>\n",
       "      <td>27.653300</td>\n",
       "      <td>-0.247391</td>\n",
       "      <td>-0.100084</td>\n",
       "      <td>-0.147308</td>\n",
       "      <td>31.947050</td>\n",
       "      <td>NaN</td>\n",
       "    </tr>\n",
       "    <tr>\n",
       "      <th>2014-04-15</th>\n",
       "      <td>26.8410</td>\n",
       "      <td>26.9225</td>\n",
       "      <td>25.9230</td>\n",
       "      <td>26.8220</td>\n",
       "      <td>76925340</td>\n",
       "      <td>NaN</td>\n",
       "      <td>NaN</td>\n",
       "      <td>NaN</td>\n",
       "      <td>27.316076</td>\n",
       "      <td>27.591722</td>\n",
       "      <td>-0.275646</td>\n",
       "      <td>-0.135196</td>\n",
       "      <td>-0.140450</td>\n",
       "      <td>34.674022</td>\n",
       "      <td>40.392670</td>\n",
       "    </tr>\n",
       "    <tr>\n",
       "      <th>2014-04-16</th>\n",
       "      <td>27.1500</td>\n",
       "      <td>27.8500</td>\n",
       "      <td>27.0000</td>\n",
       "      <td>27.8270</td>\n",
       "      <td>97394900</td>\n",
       "      <td>NaN</td>\n",
       "      <td>NaN</td>\n",
       "      <td>NaN</td>\n",
       "      <td>27.394680</td>\n",
       "      <td>27.609150</td>\n",
       "      <td>-0.214470</td>\n",
       "      <td>-0.151051</td>\n",
       "      <td>-0.063419</td>\n",
       "      <td>44.361866</td>\n",
       "      <td>49.287305</td>\n",
       "    </tr>\n",
       "    <tr>\n",
       "      <th>2014-04-17</th>\n",
       "      <td>27.4405</td>\n",
       "      <td>27.4750</td>\n",
       "      <td>26.5575</td>\n",
       "      <td>26.8050</td>\n",
       "      <td>135851860</td>\n",
       "      <td>NaN</td>\n",
       "      <td>NaN</td>\n",
       "      <td>NaN</td>\n",
       "      <td>27.303960</td>\n",
       "      <td>27.549583</td>\n",
       "      <td>-0.245623</td>\n",
       "      <td>-0.169965</td>\n",
       "      <td>-0.075658</td>\n",
       "      <td>46.825969</td>\n",
       "      <td>42.223814</td>\n",
       "    </tr>\n",
       "    <tr>\n",
       "      <th>2014-04-21</th>\n",
       "      <td>26.8050</td>\n",
       "      <td>26.8350</td>\n",
       "      <td>26.2800</td>\n",
       "      <td>26.4310</td>\n",
       "      <td>51198480</td>\n",
       "      <td>NaN</td>\n",
       "      <td>NaN</td>\n",
       "      <td>NaN</td>\n",
       "      <td>27.169659</td>\n",
       "      <td>27.466725</td>\n",
       "      <td>-0.297067</td>\n",
       "      <td>-0.195386</td>\n",
       "      <td>-0.101681</td>\n",
       "      <td>45.797689</td>\n",
       "      <td>41.032454</td>\n",
       "    </tr>\n",
       "    <tr>\n",
       "      <th>2014-04-22</th>\n",
       "      <td>26.4320</td>\n",
       "      <td>26.8615</td>\n",
       "      <td>26.3755</td>\n",
       "      <td>26.7405</td>\n",
       "      <td>47179860</td>\n",
       "      <td>NaN</td>\n",
       "      <td>NaN</td>\n",
       "      <td>NaN</td>\n",
       "      <td>27.103634</td>\n",
       "      <td>27.412931</td>\n",
       "      <td>-0.309297</td>\n",
       "      <td>-0.218168</td>\n",
       "      <td>-0.091129</td>\n",
       "      <td>40.231450</td>\n",
       "      <td>39.501525</td>\n",
       "    </tr>\n",
       "    <tr>\n",
       "      <th>2014-04-23</th>\n",
       "      <td>26.6895</td>\n",
       "      <td>26.6935</td>\n",
       "      <td>26.3125</td>\n",
       "      <td>26.3470</td>\n",
       "      <td>40997740</td>\n",
       "      <td>NaN</td>\n",
       "      <td>NaN</td>\n",
       "      <td>NaN</td>\n",
       "      <td>26.987229</td>\n",
       "      <td>27.333973</td>\n",
       "      <td>-0.346744</td>\n",
       "      <td>-0.243883</td>\n",
       "      <td>-0.102861</td>\n",
       "      <td>31.667652</td>\n",
       "      <td>37.618989</td>\n",
       "    </tr>\n",
       "    <tr>\n",
       "      <th>2014-04-24</th>\n",
       "      <td>26.4985</td>\n",
       "      <td>26.5825</td>\n",
       "      <td>26.1060</td>\n",
       "      <td>26.2580</td>\n",
       "      <td>37587520</td>\n",
       "      <td>27.320825</td>\n",
       "      <td>NaN</td>\n",
       "      <td>NaN</td>\n",
       "      <td>26.875040</td>\n",
       "      <td>27.254271</td>\n",
       "      <td>-0.379232</td>\n",
       "      <td>-0.270953</td>\n",
       "      <td>-0.108279</td>\n",
       "      <td>40.137414</td>\n",
       "      <td>36.139784</td>\n",
       "    </tr>\n",
       "  </tbody>\n",
       "</table>\n",
       "</div>"
      ],
      "text/plain": [
       "               Open     High      Low    Close     Volume  MA for 20 days  \\\n",
       "Date                                                                        \n",
       "2014-03-27  28.4000  28.4000  27.6460  27.9230     261040             NaN   \n",
       "2014-03-28  28.0600  28.3215  27.9335  27.9995     820060             NaN   \n",
       "2014-03-31  28.3445  28.3500  27.8465  27.8485     215440             NaN   \n",
       "2014-04-01  27.9355  28.4225  27.9355  28.3580     158640             NaN   \n",
       "2014-04-02  29.9995  30.2415  28.1095  28.3500    2933940             NaN   \n",
       "2014-04-03  28.4925  29.3640  28.2065  28.4870  101750000             NaN   \n",
       "2014-04-04  28.7325  28.8885  27.1500  27.1570  127552000             NaN   \n",
       "2014-04-07  27.0370  27.4240  26.3575  26.9075   87374340             NaN   \n",
       "2014-04-08  27.1535  27.7500  27.0805  27.7450   62971260             NaN   \n",
       "2014-04-09  27.9885  28.2685  27.6475  28.2070   66471580             NaN   \n",
       "2014-04-10  28.2495  28.2500  26.9950  27.0475   80542260             NaN   \n",
       "2014-04-11  26.6250  27.0000  26.3265  26.5300   78312940             NaN   \n",
       "2014-04-14  26.8870  27.2050  26.4780  26.6260   51307820             NaN   \n",
       "2014-04-15  26.8410  26.9225  25.9230  26.8220   76925340             NaN   \n",
       "2014-04-16  27.1500  27.8500  27.0000  27.8270   97394900             NaN   \n",
       "2014-04-17  27.4405  27.4750  26.5575  26.8050  135851860             NaN   \n",
       "2014-04-21  26.8050  26.8350  26.2800  26.4310   51198480             NaN   \n",
       "2014-04-22  26.4320  26.8615  26.3755  26.7405   47179860             NaN   \n",
       "2014-04-23  26.6895  26.6935  26.3125  26.3470   40997740             NaN   \n",
       "2014-04-24  26.4985  26.5825  26.1060  26.2580   37587520       27.320825   \n",
       "\n",
       "            MA for 50 days  MA for 100 days  EMA_short   EMA_long      MACD  \\\n",
       "Date                                                                          \n",
       "2014-03-27             NaN              NaN  27.923000  27.923000  0.000000   \n",
       "2014-03-28             NaN              NaN  27.934769  27.928667  0.006103   \n",
       "2014-03-31             NaN              NaN  27.921497  27.922728 -0.001231   \n",
       "2014-04-01             NaN              NaN  27.988651  27.954971  0.033681   \n",
       "2014-04-02             NaN              NaN  28.044243  27.984232  0.060011   \n",
       "2014-04-03             NaN              NaN  28.112360  28.021474  0.090886   \n",
       "2014-04-04             NaN              NaN  27.965381  27.957439  0.007942   \n",
       "2014-04-07             NaN              NaN  27.802630  27.879666 -0.077035   \n",
       "2014-04-08             NaN              NaN  27.793764  27.869691 -0.075926   \n",
       "2014-04-09             NaN              NaN  27.857339  27.894676 -0.037338   \n",
       "2014-04-10             NaN              NaN  27.732748  27.831923 -0.099174   \n",
       "2014-04-11             NaN              NaN  27.547710  27.735484 -0.187774   \n",
       "2014-04-14             NaN              NaN  27.405909  27.653300 -0.247391   \n",
       "2014-04-15             NaN              NaN  27.316076  27.591722 -0.275646   \n",
       "2014-04-16             NaN              NaN  27.394680  27.609150 -0.214470   \n",
       "2014-04-17             NaN              NaN  27.303960  27.549583 -0.245623   \n",
       "2014-04-21             NaN              NaN  27.169659  27.466725 -0.297067   \n",
       "2014-04-22             NaN              NaN  27.103634  27.412931 -0.309297   \n",
       "2014-04-23             NaN              NaN  26.987229  27.333973 -0.346744   \n",
       "2014-04-24             NaN              NaN  26.875040  27.254271 -0.379232   \n",
       "\n",
       "              Signal  MACD_Histogram       RSI9      RSI14  \n",
       "Date                                                        \n",
       "2014-03-27  0.000000        0.000000        NaN        NaN  \n",
       "2014-03-28  0.001221        0.004882        NaN        NaN  \n",
       "2014-03-31  0.000730       -0.001961        NaN        NaN  \n",
       "2014-04-01  0.007320        0.026360        NaN        NaN  \n",
       "2014-04-02  0.017858        0.042153        NaN        NaN  \n",
       "2014-04-03  0.032464        0.058422        NaN        NaN  \n",
       "2014-04-04  0.027560       -0.019617        NaN        NaN  \n",
       "2014-04-07  0.006641       -0.083676        NaN        NaN  \n",
       "2014-04-08 -0.009873       -0.066054  47.302213        NaN  \n",
       "2014-04-09 -0.015366       -0.021972  53.775592        NaN  \n",
       "2014-04-10 -0.032127       -0.067047  40.173410        NaN  \n",
       "2014-04-11 -0.063257       -0.124517  37.347663        NaN  \n",
       "2014-04-14 -0.100084       -0.147308  31.947050        NaN  \n",
       "2014-04-15 -0.135196       -0.140450  34.674022  40.392670  \n",
       "2014-04-16 -0.151051       -0.063419  44.361866  49.287305  \n",
       "2014-04-17 -0.169965       -0.075658  46.825969  42.223814  \n",
       "2014-04-21 -0.195386       -0.101681  45.797689  41.032454  \n",
       "2014-04-22 -0.218168       -0.091129  40.231450  39.501525  \n",
       "2014-04-23 -0.243883       -0.102861  31.667652  37.618989  \n",
       "2014-04-24 -0.270953       -0.108279  40.137414  36.139784  "
      ]
     },
     "execution_count": 4,
     "metadata": {},
     "output_type": "execute_result"
    }
   ],
   "source": [
    "data.head(20)"
   ]
  },
  {
   "cell_type": "markdown",
   "id": "77a607e7",
   "metadata": {
    "papermill": {
     "duration": 0.009406,
     "end_time": "2025-06-22T14:32:43.600961",
     "exception": false,
     "start_time": "2025-06-22T14:32:43.591555",
     "status": "completed"
    },
    "tags": []
   },
   "source": [
    "### 予測に利用するデータセットの準備\n",
    "データセットに含めるのは以下の６個  \n",
    "　Close（終値），Volume（出来高），MACD_Histogram，Signal，RSI9，RSI14  \n",
    "Closeはリターン（変化率）に直して使用する。"
   ]
  },
  {
   "cell_type": "code",
   "execution_count": 5,
   "id": "c63cf715",
   "metadata": {
    "execution": {
     "iopub.execute_input": "2025-06-22T14:32:43.622947Z",
     "iopub.status.busy": "2025-06-22T14:32:43.622560Z",
     "iopub.status.idle": "2025-06-22T14:32:43.645881Z",
     "shell.execute_reply": "2025-06-22T14:32:43.644748Z"
    },
    "papermill": {
     "duration": 0.036399,
     "end_time": "2025-06-22T14:32:43.647575",
     "exception": false,
     "start_time": "2025-06-22T14:32:43.611176",
     "status": "completed"
    },
    "tags": []
   },
   "outputs": [
    {
     "name": "stderr",
     "output_type": "stream",
     "text": [
      "/tmp/ipykernel_13/872747020.py:4: SettingWithCopyWarning: \n",
      "A value is trying to be set on a copy of a slice from a DataFrame.\n",
      "Try using .loc[row_indexer,col_indexer] = value instead\n",
      "\n",
      "See the caveats in the documentation: https://pandas.pydata.org/pandas-docs/stable/user_guide/indexing.html#returning-a-view-versus-a-copy\n",
      "  dataset['returns'] = dataset['Close'].pct_change()\n"
     ]
    },
    {
     "data": {
      "text/html": [
       "<div>\n",
       "<style scoped>\n",
       "    .dataframe tbody tr th:only-of-type {\n",
       "        vertical-align: middle;\n",
       "    }\n",
       "\n",
       "    .dataframe tbody tr th {\n",
       "        vertical-align: top;\n",
       "    }\n",
       "\n",
       "    .dataframe thead th {\n",
       "        text-align: right;\n",
       "    }\n",
       "</style>\n",
       "<table border=\"1\" class=\"dataframe\">\n",
       "  <thead>\n",
       "    <tr style=\"text-align: right;\">\n",
       "      <th></th>\n",
       "      <th>Close</th>\n",
       "      <th>Volume</th>\n",
       "      <th>MACD_Histogram</th>\n",
       "      <th>Signal</th>\n",
       "      <th>RSI9</th>\n",
       "      <th>RSI14</th>\n",
       "      <th>returns</th>\n",
       "    </tr>\n",
       "    <tr>\n",
       "      <th>Date</th>\n",
       "      <th></th>\n",
       "      <th></th>\n",
       "      <th></th>\n",
       "      <th></th>\n",
       "      <th></th>\n",
       "      <th></th>\n",
       "      <th></th>\n",
       "    </tr>\n",
       "  </thead>\n",
       "  <tbody>\n",
       "    <tr>\n",
       "      <th>2014-04-25</th>\n",
       "      <td>25.8090</td>\n",
       "      <td>41939940</td>\n",
       "      <td>-0.132182</td>\n",
       "      <td>-0.303998</td>\n",
       "      <td>40.836299</td>\n",
       "      <td>40.586592</td>\n",
       "      <td>-0.017100</td>\n",
       "    </tr>\n",
       "    <tr>\n",
       "      <th>2014-04-28</th>\n",
       "      <td>25.8575</td>\n",
       "      <td>66511300</td>\n",
       "      <td>-0.134369</td>\n",
       "      <td>-0.337591</td>\n",
       "      <td>40.113212</td>\n",
       "      <td>42.455813</td>\n",
       "      <td>0.001879</td>\n",
       "    </tr>\n",
       "    <tr>\n",
       "      <th>2014-04-29</th>\n",
       "      <td>26.3850</td>\n",
       "      <td>53836980</td>\n",
       "      <td>-0.091954</td>\n",
       "      <td>-0.360579</td>\n",
       "      <td>44.819820</td>\n",
       "      <td>39.772898</td>\n",
       "      <td>0.020400</td>\n",
       "    </tr>\n",
       "    <tr>\n",
       "      <th>2014-04-30</th>\n",
       "      <td>26.3330</td>\n",
       "      <td>34928100</td>\n",
       "      <td>-0.060579</td>\n",
       "      <td>-0.375724</td>\n",
       "      <td>27.120980</td>\n",
       "      <td>34.981568</td>\n",
       "      <td>-0.001971</td>\n",
       "    </tr>\n",
       "    <tr>\n",
       "      <th>2014-05-01</th>\n",
       "      <td>26.5675</td>\n",
       "      <td>38008220</td>\n",
       "      <td>-0.019348</td>\n",
       "      <td>-0.380561</td>\n",
       "      <td>45.206862</td>\n",
       "      <td>45.483628</td>\n",
       "      <td>0.008905</td>\n",
       "    </tr>\n",
       "  </tbody>\n",
       "</table>\n",
       "</div>"
      ],
      "text/plain": [
       "              Close    Volume  MACD_Histogram    Signal       RSI9      RSI14  \\\n",
       "Date                                                                            \n",
       "2014-04-25  25.8090  41939940       -0.132182 -0.303998  40.836299  40.586592   \n",
       "2014-04-28  25.8575  66511300       -0.134369 -0.337591  40.113212  42.455813   \n",
       "2014-04-29  26.3850  53836980       -0.091954 -0.360579  44.819820  39.772898   \n",
       "2014-04-30  26.3330  34928100       -0.060579 -0.375724  27.120980  34.981568   \n",
       "2014-05-01  26.5675  38008220       -0.019348 -0.380561  45.206862  45.483628   \n",
       "\n",
       "             returns  \n",
       "Date                  \n",
       "2014-04-25 -0.017100  \n",
       "2014-04-28  0.001879  \n",
       "2014-04-29  0.020400  \n",
       "2014-04-30 -0.001971  \n",
       "2014-05-01  0.008905  "
      ]
     },
     "execution_count": 5,
     "metadata": {},
     "output_type": "execute_result"
    }
   ],
   "source": [
    "# datasetとして利用するClose(終値)\n",
    "dataset = data[['Close', 'Volume', 'MACD_Histogram', 'Signal', 'RSI9', 'RSI14']]\n",
    "#-- リターン（単純変化率） --#\n",
    "dataset['returns'] = dataset['Close'].pct_change()\n",
    "\n",
    "dataset = dataset.iloc[20:]\n",
    "dataset.head()"
   ]
  },
  {
   "cell_type": "markdown",
   "id": "ac495ff6",
   "metadata": {
    "papermill": {
     "duration": 0.009507,
     "end_time": "2025-06-22T14:32:43.667315",
     "exception": false,
     "start_time": "2025-06-22T14:32:43.657808",
     "status": "completed"
    },
    "tags": []
   },
   "source": [
    "# 1) LSTM\n",
    "過去60日分のデータを学習して61日目のデータを予想する、ということを繰り返して学習するモデル  \n",
    "論文「Stock Market Prediction Using LSTM Recurrent Neural Network」に近い実装となっていそうな「mwitiderrick/stockprice」を参考  \n",
    "mwitiderrick/stockprice: https://github.com/mwitiderrick/stockprice/blob/master/TATA%20.ipynb"
   ]
  },
  {
   "cell_type": "markdown",
   "id": "42557024",
   "metadata": {
    "papermill": {
     "duration": 0.009913,
     "end_time": "2025-06-22T14:32:43.687291",
     "exception": false,
     "start_time": "2025-06-22T14:32:43.677378",
     "status": "completed"
    },
    "tags": []
   },
   "source": [
    "## データの準備"
   ]
  },
  {
   "cell_type": "code",
   "execution_count": 6,
   "id": "36ffd280",
   "metadata": {
    "execution": {
     "iopub.execute_input": "2025-06-22T14:32:43.708947Z",
     "iopub.status.busy": "2025-06-22T14:32:43.708546Z",
     "iopub.status.idle": "2025-06-22T14:32:44.140114Z",
     "shell.execute_reply": "2025-06-22T14:32:44.139035Z"
    },
    "papermill": {
     "duration": 0.444593,
     "end_time": "2025-06-22T14:32:44.141845",
     "exception": false,
     "start_time": "2025-06-22T14:32:43.697252",
     "status": "completed"
    },
    "tags": []
   },
   "outputs": [
    {
     "name": "stdout",
     "output_type": "stream",
     "text": [
      "x_train shape: (2185, 60, 6)\n",
      "y_train shape: (2185,)\n",
      "x_test shape: (561, 60, 6)\n",
      "y_test shape: (561,)\n"
     ]
    },
    {
     "data": {
      "text/html": [
       "<style>#sk-container-id-1 {color: black;background-color: white;}#sk-container-id-1 pre{padding: 0;}#sk-container-id-1 div.sk-toggleable {background-color: white;}#sk-container-id-1 label.sk-toggleable__label {cursor: pointer;display: block;width: 100%;margin-bottom: 0;padding: 0.3em;box-sizing: border-box;text-align: center;}#sk-container-id-1 label.sk-toggleable__label-arrow:before {content: \"▸\";float: left;margin-right: 0.25em;color: #696969;}#sk-container-id-1 label.sk-toggleable__label-arrow:hover:before {color: black;}#sk-container-id-1 div.sk-estimator:hover label.sk-toggleable__label-arrow:before {color: black;}#sk-container-id-1 div.sk-toggleable__content {max-height: 0;max-width: 0;overflow: hidden;text-align: left;background-color: #f0f8ff;}#sk-container-id-1 div.sk-toggleable__content pre {margin: 0.2em;color: black;border-radius: 0.25em;background-color: #f0f8ff;}#sk-container-id-1 input.sk-toggleable__control:checked~div.sk-toggleable__content {max-height: 200px;max-width: 100%;overflow: auto;}#sk-container-id-1 input.sk-toggleable__control:checked~label.sk-toggleable__label-arrow:before {content: \"▾\";}#sk-container-id-1 div.sk-estimator input.sk-toggleable__control:checked~label.sk-toggleable__label {background-color: #d4ebff;}#sk-container-id-1 div.sk-label input.sk-toggleable__control:checked~label.sk-toggleable__label {background-color: #d4ebff;}#sk-container-id-1 input.sk-hidden--visually {border: 0;clip: rect(1px 1px 1px 1px);clip: rect(1px, 1px, 1px, 1px);height: 1px;margin: -1px;overflow: hidden;padding: 0;position: absolute;width: 1px;}#sk-container-id-1 div.sk-estimator {font-family: monospace;background-color: #f0f8ff;border: 1px dotted black;border-radius: 0.25em;box-sizing: border-box;margin-bottom: 0.5em;}#sk-container-id-1 div.sk-estimator:hover {background-color: #d4ebff;}#sk-container-id-1 div.sk-parallel-item::after {content: \"\";width: 100%;border-bottom: 1px solid gray;flex-grow: 1;}#sk-container-id-1 div.sk-label:hover label.sk-toggleable__label {background-color: #d4ebff;}#sk-container-id-1 div.sk-serial::before {content: \"\";position: absolute;border-left: 1px solid gray;box-sizing: border-box;top: 0;bottom: 0;left: 50%;z-index: 0;}#sk-container-id-1 div.sk-serial {display: flex;flex-direction: column;align-items: center;background-color: white;padding-right: 0.2em;padding-left: 0.2em;position: relative;}#sk-container-id-1 div.sk-item {position: relative;z-index: 1;}#sk-container-id-1 div.sk-parallel {display: flex;align-items: stretch;justify-content: center;background-color: white;position: relative;}#sk-container-id-1 div.sk-item::before, #sk-container-id-1 div.sk-parallel-item::before {content: \"\";position: absolute;border-left: 1px solid gray;box-sizing: border-box;top: 0;bottom: 0;left: 50%;z-index: -1;}#sk-container-id-1 div.sk-parallel-item {display: flex;flex-direction: column;z-index: 1;position: relative;background-color: white;}#sk-container-id-1 div.sk-parallel-item:first-child::after {align-self: flex-end;width: 50%;}#sk-container-id-1 div.sk-parallel-item:last-child::after {align-self: flex-start;width: 50%;}#sk-container-id-1 div.sk-parallel-item:only-child::after {width: 0;}#sk-container-id-1 div.sk-dashed-wrapped {border: 1px dashed gray;margin: 0 0.4em 0.5em 0.4em;box-sizing: border-box;padding-bottom: 0.4em;background-color: white;}#sk-container-id-1 div.sk-label label {font-family: monospace;font-weight: bold;display: inline-block;line-height: 1.2em;}#sk-container-id-1 div.sk-label-container {text-align: center;}#sk-container-id-1 div.sk-container {/* jupyter's `normalize.less` sets `[hidden] { display: none; }` but bootstrap.min.css set `[hidden] { display: none !important; }` so we also need the `!important` here to be able to override the default hidden behavior on the sphinx rendered scikit-learn.org. See: https://github.com/scikit-learn/scikit-learn/issues/21755 */display: inline-block !important;position: relative;}#sk-container-id-1 div.sk-text-repr-fallback {display: none;}</style><div id=\"sk-container-id-1\" class=\"sk-top-container\"><div class=\"sk-text-repr-fallback\"><pre>StandardScaler()</pre><b>In a Jupyter environment, please rerun this cell to show the HTML representation or trust the notebook. <br />On GitHub, the HTML representation is unable to render, please try loading this page with nbviewer.org.</b></div><div class=\"sk-container\" hidden><div class=\"sk-item\"><div class=\"sk-estimator sk-toggleable\"><input class=\"sk-toggleable__control sk-hidden--visually\" id=\"sk-estimator-id-1\" type=\"checkbox\" checked><label for=\"sk-estimator-id-1\" class=\"sk-toggleable__label sk-toggleable__label-arrow\">StandardScaler</label><div class=\"sk-toggleable__content\"><pre>StandardScaler()</pre></div></div></div></div></div>"
      ],
      "text/plain": [
       "StandardScaler()"
      ]
     },
     "execution_count": 6,
     "metadata": {},
     "output_type": "execute_result"
    }
   ],
   "source": [
    "from sklearn.preprocessing import StandardScaler, MinMaxScaler\n",
    "\n",
    "# 特徴量列の選択\n",
    "features = ['returns', 'Volume', 'MACD_Histogram', 'Signal', 'RSI9', 'RSI14']\n",
    "feature_data = dataset[features].copy()\n",
    "\n",
    "# スケーリング\n",
    "standard_scaler = StandardScaler()\n",
    "minmax_scaler = MinMaxScaler()\n",
    "\n",
    "# StandardScaler：returns, MACD_Histogram, Signal（正負ありデータ）\n",
    "standard_cols = ['returns', 'MACD_Histogram', 'Signal']\n",
    "feature_data[standard_cols] = standard_scaler.fit_transform(feature_data[standard_cols])\n",
    "\n",
    "# MinMaxScaler：Volume, RSI9, RSI14（非負データ）\n",
    "minmax_cols = ['Volume', 'RSI9', 'RSI14']\n",
    "feature_data[minmax_cols] = minmax_scaler.fit_transform(feature_data[minmax_cols])\n",
    "\n",
    "#---------- トレーニングデータの作成 ----------# \n",
    "# 前から80%をトレーニングデータとして扱う\n",
    "train_data_len = int(np.ceil(len(feature_data) * 0.8))\n",
    "# どれくらいの期間をもとに予測するか\n",
    "window_size = 60  # 60days\n",
    "\n",
    "# 特徴量すべて（6列）をスライスし、x_train, y_trainを作成\n",
    "x_train, y_train = [], []  # type: list 変換の必要あり\n",
    "\n",
    "for i in range(window_size, train_data_len):\n",
    "    x_train.append(feature_data.iloc[i - window_size:i].to_numpy())\n",
    "    y_train.append(feature_data.iloc[i]['returns'])  # 目的変数は returns（正規化済）\n",
    "\n",
    "# ndarrayに変換\n",
    "x_train, y_train = np.array(x_train), np.array(y_train)\n",
    "\n",
    "# LSTM入力用の shape に変形\n",
    "# (samples, timesteps, features)\n",
    "print(\"x_train shape:\", x_train.shape)  # → (train_samples, 60, 6)\n",
    "print(\"y_train shape:\", y_train.shape)  # → (train_samples,)\n",
    "\n",
    "#---------- テストデータの作成 ----------#\n",
    "test_data = feature_data.iloc[train_data_len - window_size:].copy()  # 60日分前から必要\n",
    "\n",
    "x_test, y_test = [], []  # type: list 変換の必要あり\n",
    "\n",
    "for i in range(window_size, len(test_data)):\n",
    "    x_test.append(test_data.iloc[i - window_size:i].to_numpy())\n",
    "    y_test.append(test_data.iloc[i]['returns'])  # 予測対象は returns（正規化済）\n",
    "\n",
    "# ndarrayに変換\n",
    "x_test, y_test = np.array(x_test), np.array(y_test)\n",
    "\n",
    "# shape 確認（samples, timesteps, features）\n",
    "print(\"x_test shape:\", x_test.shape)   # (テストサンプル数, 60, 6)\n",
    "print(\"y_test shape:\", y_test.shape)   # (テストサンプル数,)\n",
    "\n",
    "\n",
    "# 後の逆変換用に returns 専用スケーラー保存\n",
    "returns_scaler = StandardScaler()\n",
    "returns_scaler.fit(dataset[['returns']])  # 正規化前の 'returns' に対してフィット"
   ]
  },
  {
   "cell_type": "markdown",
   "id": "f1227819",
   "metadata": {
    "papermill": {
     "duration": 0.009164,
     "end_time": "2025-06-22T14:32:44.160881",
     "exception": false,
     "start_time": "2025-06-22T14:32:44.151717",
     "status": "completed"
    },
    "tags": []
   },
   "source": [
    "## LSTMモデルの実装\n",
    "４層のLSTMの間にDropout(0.2)を挟む\n",
    "最適化アルゴリズムにadam、損失関数にはMSE（平均二乗誤差）を指定"
   ]
  },
  {
   "cell_type": "code",
   "execution_count": 7,
   "id": "175f29b4",
   "metadata": {
    "execution": {
     "iopub.execute_input": "2025-06-22T14:32:44.182370Z",
     "iopub.status.busy": "2025-06-22T14:32:44.181022Z",
     "iopub.status.idle": "2025-06-22T14:32:44.465281Z",
     "shell.execute_reply": "2025-06-22T14:32:44.464311Z"
    },
    "papermill": {
     "duration": 0.296626,
     "end_time": "2025-06-22T14:32:44.467027",
     "exception": false,
     "start_time": "2025-06-22T14:32:44.170401",
     "status": "completed"
    },
    "tags": []
   },
   "outputs": [
    {
     "name": "stderr",
     "output_type": "stream",
     "text": [
      "2025-06-22 14:32:44.193506: E external/local_xla/xla/stream_executor/cuda/cuda_driver.cc:152] failed call to cuInit: INTERNAL: CUDA error: Failed call to cuInit: UNKNOWN ERROR (303)\n",
      "/usr/local/lib/python3.11/dist-packages/keras/src/layers/rnn/rnn.py:200: UserWarning: Do not pass an `input_shape`/`input_dim` argument to a layer. When using Sequential models, prefer using an `Input(shape)` object as the first layer in the model instead.\n",
      "  super().__init__(**kwargs)\n"
     ]
    },
    {
     "data": {
      "text/html": [
       "<pre style=\"white-space:pre;overflow-x:auto;line-height:normal;font-family:Menlo,'DejaVu Sans Mono',consolas,'Courier New',monospace\"><span style=\"font-weight: bold\">Model: \"sequential\"</span>\n",
       "</pre>\n"
      ],
      "text/plain": [
       "\u001b[1mModel: \"sequential\"\u001b[0m\n"
      ]
     },
     "metadata": {},
     "output_type": "display_data"
    },
    {
     "data": {
      "text/html": [
       "<pre style=\"white-space:pre;overflow-x:auto;line-height:normal;font-family:Menlo,'DejaVu Sans Mono',consolas,'Courier New',monospace\">┏━━━━━━━━━━━━━━━━━━━━━━━━━━━━━━━━━━━━━━┳━━━━━━━━━━━━━━━━━━━━━━━━━━━━━┳━━━━━━━━━━━━━━━━━┓\n",
       "┃<span style=\"font-weight: bold\"> Layer (type)                         </span>┃<span style=\"font-weight: bold\"> Output Shape                </span>┃<span style=\"font-weight: bold\">         Param # </span>┃\n",
       "┡━━━━━━━━━━━━━━━━━━━━━━━━━━━━━━━━━━━━━━╇━━━━━━━━━━━━━━━━━━━━━━━━━━━━━╇━━━━━━━━━━━━━━━━━┩\n",
       "│ lstm (<span style=\"color: #0087ff; text-decoration-color: #0087ff\">LSTM</span>)                          │ (<span style=\"color: #00d7ff; text-decoration-color: #00d7ff\">None</span>, <span style=\"color: #00af00; text-decoration-color: #00af00\">60</span>, <span style=\"color: #00af00; text-decoration-color: #00af00\">50</span>)              │          <span style=\"color: #00af00; text-decoration-color: #00af00\">11,400</span> │\n",
       "├──────────────────────────────────────┼─────────────────────────────┼─────────────────┤\n",
       "│ dropout (<span style=\"color: #0087ff; text-decoration-color: #0087ff\">Dropout</span>)                    │ (<span style=\"color: #00d7ff; text-decoration-color: #00d7ff\">None</span>, <span style=\"color: #00af00; text-decoration-color: #00af00\">60</span>, <span style=\"color: #00af00; text-decoration-color: #00af00\">50</span>)              │               <span style=\"color: #00af00; text-decoration-color: #00af00\">0</span> │\n",
       "├──────────────────────────────────────┼─────────────────────────────┼─────────────────┤\n",
       "│ lstm_1 (<span style=\"color: #0087ff; text-decoration-color: #0087ff\">LSTM</span>)                        │ (<span style=\"color: #00d7ff; text-decoration-color: #00d7ff\">None</span>, <span style=\"color: #00af00; text-decoration-color: #00af00\">60</span>, <span style=\"color: #00af00; text-decoration-color: #00af00\">50</span>)              │          <span style=\"color: #00af00; text-decoration-color: #00af00\">20,200</span> │\n",
       "├──────────────────────────────────────┼─────────────────────────────┼─────────────────┤\n",
       "│ dropout_1 (<span style=\"color: #0087ff; text-decoration-color: #0087ff\">Dropout</span>)                  │ (<span style=\"color: #00d7ff; text-decoration-color: #00d7ff\">None</span>, <span style=\"color: #00af00; text-decoration-color: #00af00\">60</span>, <span style=\"color: #00af00; text-decoration-color: #00af00\">50</span>)              │               <span style=\"color: #00af00; text-decoration-color: #00af00\">0</span> │\n",
       "├──────────────────────────────────────┼─────────────────────────────┼─────────────────┤\n",
       "│ lstm_2 (<span style=\"color: #0087ff; text-decoration-color: #0087ff\">LSTM</span>)                        │ (<span style=\"color: #00d7ff; text-decoration-color: #00d7ff\">None</span>, <span style=\"color: #00af00; text-decoration-color: #00af00\">60</span>, <span style=\"color: #00af00; text-decoration-color: #00af00\">50</span>)              │          <span style=\"color: #00af00; text-decoration-color: #00af00\">20,200</span> │\n",
       "├──────────────────────────────────────┼─────────────────────────────┼─────────────────┤\n",
       "│ dropout_2 (<span style=\"color: #0087ff; text-decoration-color: #0087ff\">Dropout</span>)                  │ (<span style=\"color: #00d7ff; text-decoration-color: #00d7ff\">None</span>, <span style=\"color: #00af00; text-decoration-color: #00af00\">60</span>, <span style=\"color: #00af00; text-decoration-color: #00af00\">50</span>)              │               <span style=\"color: #00af00; text-decoration-color: #00af00\">0</span> │\n",
       "├──────────────────────────────────────┼─────────────────────────────┼─────────────────┤\n",
       "│ lstm_3 (<span style=\"color: #0087ff; text-decoration-color: #0087ff\">LSTM</span>)                        │ (<span style=\"color: #00d7ff; text-decoration-color: #00d7ff\">None</span>, <span style=\"color: #00af00; text-decoration-color: #00af00\">50</span>)                  │          <span style=\"color: #00af00; text-decoration-color: #00af00\">20,200</span> │\n",
       "├──────────────────────────────────────┼─────────────────────────────┼─────────────────┤\n",
       "│ dropout_3 (<span style=\"color: #0087ff; text-decoration-color: #0087ff\">Dropout</span>)                  │ (<span style=\"color: #00d7ff; text-decoration-color: #00d7ff\">None</span>, <span style=\"color: #00af00; text-decoration-color: #00af00\">50</span>)                  │               <span style=\"color: #00af00; text-decoration-color: #00af00\">0</span> │\n",
       "├──────────────────────────────────────┼─────────────────────────────┼─────────────────┤\n",
       "│ dense (<span style=\"color: #0087ff; text-decoration-color: #0087ff\">Dense</span>)                        │ (<span style=\"color: #00d7ff; text-decoration-color: #00d7ff\">None</span>, <span style=\"color: #00af00; text-decoration-color: #00af00\">1</span>)                   │              <span style=\"color: #00af00; text-decoration-color: #00af00\">51</span> │\n",
       "└──────────────────────────────────────┴─────────────────────────────┴─────────────────┘\n",
       "</pre>\n"
      ],
      "text/plain": [
       "┏━━━━━━━━━━━━━━━━━━━━━━━━━━━━━━━━━━━━━━┳━━━━━━━━━━━━━━━━━━━━━━━━━━━━━┳━━━━━━━━━━━━━━━━━┓\n",
       "┃\u001b[1m \u001b[0m\u001b[1mLayer (type)                        \u001b[0m\u001b[1m \u001b[0m┃\u001b[1m \u001b[0m\u001b[1mOutput Shape               \u001b[0m\u001b[1m \u001b[0m┃\u001b[1m \u001b[0m\u001b[1m        Param #\u001b[0m\u001b[1m \u001b[0m┃\n",
       "┡━━━━━━━━━━━━━━━━━━━━━━━━━━━━━━━━━━━━━━╇━━━━━━━━━━━━━━━━━━━━━━━━━━━━━╇━━━━━━━━━━━━━━━━━┩\n",
       "│ lstm (\u001b[38;5;33mLSTM\u001b[0m)                          │ (\u001b[38;5;45mNone\u001b[0m, \u001b[38;5;34m60\u001b[0m, \u001b[38;5;34m50\u001b[0m)              │          \u001b[38;5;34m11,400\u001b[0m │\n",
       "├──────────────────────────────────────┼─────────────────────────────┼─────────────────┤\n",
       "│ dropout (\u001b[38;5;33mDropout\u001b[0m)                    │ (\u001b[38;5;45mNone\u001b[0m, \u001b[38;5;34m60\u001b[0m, \u001b[38;5;34m50\u001b[0m)              │               \u001b[38;5;34m0\u001b[0m │\n",
       "├──────────────────────────────────────┼─────────────────────────────┼─────────────────┤\n",
       "│ lstm_1 (\u001b[38;5;33mLSTM\u001b[0m)                        │ (\u001b[38;5;45mNone\u001b[0m, \u001b[38;5;34m60\u001b[0m, \u001b[38;5;34m50\u001b[0m)              │          \u001b[38;5;34m20,200\u001b[0m │\n",
       "├──────────────────────────────────────┼─────────────────────────────┼─────────────────┤\n",
       "│ dropout_1 (\u001b[38;5;33mDropout\u001b[0m)                  │ (\u001b[38;5;45mNone\u001b[0m, \u001b[38;5;34m60\u001b[0m, \u001b[38;5;34m50\u001b[0m)              │               \u001b[38;5;34m0\u001b[0m │\n",
       "├──────────────────────────────────────┼─────────────────────────────┼─────────────────┤\n",
       "│ lstm_2 (\u001b[38;5;33mLSTM\u001b[0m)                        │ (\u001b[38;5;45mNone\u001b[0m, \u001b[38;5;34m60\u001b[0m, \u001b[38;5;34m50\u001b[0m)              │          \u001b[38;5;34m20,200\u001b[0m │\n",
       "├──────────────────────────────────────┼─────────────────────────────┼─────────────────┤\n",
       "│ dropout_2 (\u001b[38;5;33mDropout\u001b[0m)                  │ (\u001b[38;5;45mNone\u001b[0m, \u001b[38;5;34m60\u001b[0m, \u001b[38;5;34m50\u001b[0m)              │               \u001b[38;5;34m0\u001b[0m │\n",
       "├──────────────────────────────────────┼─────────────────────────────┼─────────────────┤\n",
       "│ lstm_3 (\u001b[38;5;33mLSTM\u001b[0m)                        │ (\u001b[38;5;45mNone\u001b[0m, \u001b[38;5;34m50\u001b[0m)                  │          \u001b[38;5;34m20,200\u001b[0m │\n",
       "├──────────────────────────────────────┼─────────────────────────────┼─────────────────┤\n",
       "│ dropout_3 (\u001b[38;5;33mDropout\u001b[0m)                  │ (\u001b[38;5;45mNone\u001b[0m, \u001b[38;5;34m50\u001b[0m)                  │               \u001b[38;5;34m0\u001b[0m │\n",
       "├──────────────────────────────────────┼─────────────────────────────┼─────────────────┤\n",
       "│ dense (\u001b[38;5;33mDense\u001b[0m)                        │ (\u001b[38;5;45mNone\u001b[0m, \u001b[38;5;34m1\u001b[0m)                   │              \u001b[38;5;34m51\u001b[0m │\n",
       "└──────────────────────────────────────┴─────────────────────────────┴─────────────────┘\n"
      ]
     },
     "metadata": {},
     "output_type": "display_data"
    },
    {
     "data": {
      "text/html": [
       "<pre style=\"white-space:pre;overflow-x:auto;line-height:normal;font-family:Menlo,'DejaVu Sans Mono',consolas,'Courier New',monospace\"><span style=\"font-weight: bold\"> Total params: </span><span style=\"color: #00af00; text-decoration-color: #00af00\">72,051</span> (281.45 KB)\n",
       "</pre>\n"
      ],
      "text/plain": [
       "\u001b[1m Total params: \u001b[0m\u001b[38;5;34m72,051\u001b[0m (281.45 KB)\n"
      ]
     },
     "metadata": {},
     "output_type": "display_data"
    },
    {
     "data": {
      "text/html": [
       "<pre style=\"white-space:pre;overflow-x:auto;line-height:normal;font-family:Menlo,'DejaVu Sans Mono',consolas,'Courier New',monospace\"><span style=\"font-weight: bold\"> Trainable params: </span><span style=\"color: #00af00; text-decoration-color: #00af00\">72,051</span> (281.45 KB)\n",
       "</pre>\n"
      ],
      "text/plain": [
       "\u001b[1m Trainable params: \u001b[0m\u001b[38;5;34m72,051\u001b[0m (281.45 KB)\n"
      ]
     },
     "metadata": {},
     "output_type": "display_data"
    },
    {
     "data": {
      "text/html": [
       "<pre style=\"white-space:pre;overflow-x:auto;line-height:normal;font-family:Menlo,'DejaVu Sans Mono',consolas,'Courier New',monospace\"><span style=\"font-weight: bold\"> Non-trainable params: </span><span style=\"color: #00af00; text-decoration-color: #00af00\">0</span> (0.00 B)\n",
       "</pre>\n"
      ],
      "text/plain": [
       "\u001b[1m Non-trainable params: \u001b[0m\u001b[38;5;34m0\u001b[0m (0.00 B)\n"
      ]
     },
     "metadata": {},
     "output_type": "display_data"
    }
   ],
   "source": [
    "model = Sequential()\n",
    "model.add(LSTM(units=50,return_sequences=True,input_shape=(x_train.shape[1], x_train.shape[2])))\n",
    "model.add(Dropout(0.2))\n",
    "model.add(LSTM(units=50,return_sequences=True))\n",
    "model.add(Dropout(0.2))\n",
    "model.add(LSTM(units=50,return_sequences=True))\n",
    "model.add(Dropout(0.2))\n",
    "model.add(LSTM(units=50))\n",
    "model.add(Dropout(0.2))\n",
    "model.add(Dense(units=1))\n",
    "\n",
    "model.compile(optimizer='adam', loss='mean_squared_error')\n",
    "model.summary()"
   ]
  },
  {
   "cell_type": "markdown",
   "id": "9b272ba8",
   "metadata": {
    "papermill": {
     "duration": 0.010782,
     "end_time": "2025-06-22T14:32:44.489169",
     "exception": false,
     "start_time": "2025-06-22T14:32:44.478387",
     "status": "completed"
    },
    "tags": []
   },
   "source": [
    "### モデルの学習\n",
    "batch_size=32, epochs=120（データを32分割し実行、それを120回繰り返す）"
   ]
  },
  {
   "cell_type": "code",
   "execution_count": 8,
   "id": "bd3718a6",
   "metadata": {
    "execution": {
     "iopub.execute_input": "2025-06-22T14:32:44.513060Z",
     "iopub.status.busy": "2025-06-22T14:32:44.512635Z",
     "iopub.status.idle": "2025-06-22T14:48:57.496772Z",
     "shell.execute_reply": "2025-06-22T14:48:57.495050Z"
    },
    "papermill": {
     "duration": 972.99946,
     "end_time": "2025-06-22T14:48:57.499646",
     "exception": false,
     "start_time": "2025-06-22T14:32:44.500186",
     "status": "completed"
    },
    "tags": []
   },
   "outputs": [
    {
     "name": "stdout",
     "output_type": "stream",
     "text": [
      "Epoch 1/120\n",
      "\u001b[1m69/69\u001b[0m \u001b[32m━━━━━━━━━━━━━━━━━━━━\u001b[0m\u001b[37m\u001b[0m \u001b[1m19s\u001b[0m 115ms/step - loss: 1.0097\n",
      "Epoch 2/120\n",
      "\u001b[1m69/69\u001b[0m \u001b[32m━━━━━━━━━━━━━━━━━━━━\u001b[0m\u001b[37m\u001b[0m \u001b[1m8s\u001b[0m 113ms/step - loss: 0.9820\n",
      "Epoch 3/120\n",
      "\u001b[1m69/69\u001b[0m \u001b[32m━━━━━━━━━━━━━━━━━━━━\u001b[0m\u001b[37m\u001b[0m \u001b[1m8s\u001b[0m 117ms/step - loss: 0.9300\n",
      "Epoch 4/120\n",
      "\u001b[1m69/69\u001b[0m \u001b[32m━━━━━━━━━━━━━━━━━━━━\u001b[0m\u001b[37m\u001b[0m \u001b[1m8s\u001b[0m 113ms/step - loss: 0.9516\n",
      "Epoch 5/120\n",
      "\u001b[1m69/69\u001b[0m \u001b[32m━━━━━━━━━━━━━━━━━━━━\u001b[0m\u001b[37m\u001b[0m \u001b[1m8s\u001b[0m 115ms/step - loss: 0.9632\n",
      "Epoch 6/120\n",
      "\u001b[1m69/69\u001b[0m \u001b[32m━━━━━━━━━━━━━━━━━━━━\u001b[0m\u001b[37m\u001b[0m \u001b[1m8s\u001b[0m 114ms/step - loss: 0.9690\n",
      "Epoch 7/120\n",
      "\u001b[1m69/69\u001b[0m \u001b[32m━━━━━━━━━━━━━━━━━━━━\u001b[0m\u001b[37m\u001b[0m \u001b[1m8s\u001b[0m 117ms/step - loss: 0.9784\n",
      "Epoch 8/120\n",
      "\u001b[1m69/69\u001b[0m \u001b[32m━━━━━━━━━━━━━━━━━━━━\u001b[0m\u001b[37m\u001b[0m \u001b[1m8s\u001b[0m 113ms/step - loss: 1.0556\n",
      "Epoch 9/120\n",
      "\u001b[1m69/69\u001b[0m \u001b[32m━━━━━━━━━━━━━━━━━━━━\u001b[0m\u001b[37m\u001b[0m \u001b[1m8s\u001b[0m 114ms/step - loss: 1.0195\n",
      "Epoch 10/120\n",
      "\u001b[1m69/69\u001b[0m \u001b[32m━━━━━━━━━━━━━━━━━━━━\u001b[0m\u001b[37m\u001b[0m \u001b[1m8s\u001b[0m 114ms/step - loss: 0.9372\n",
      "Epoch 11/120\n",
      "\u001b[1m69/69\u001b[0m \u001b[32m━━━━━━━━━━━━━━━━━━━━\u001b[0m\u001b[37m\u001b[0m \u001b[1m8s\u001b[0m 116ms/step - loss: 0.9481\n",
      "Epoch 12/120\n",
      "\u001b[1m69/69\u001b[0m \u001b[32m━━━━━━━━━━━━━━━━━━━━\u001b[0m\u001b[37m\u001b[0m \u001b[1m8s\u001b[0m 113ms/step - loss: 1.0884\n",
      "Epoch 13/120\n",
      "\u001b[1m69/69\u001b[0m \u001b[32m━━━━━━━━━━━━━━━━━━━━\u001b[0m\u001b[37m\u001b[0m \u001b[1m8s\u001b[0m 113ms/step - loss: 0.9817\n",
      "Epoch 14/120\n",
      "\u001b[1m69/69\u001b[0m \u001b[32m━━━━━━━━━━━━━━━━━━━━\u001b[0m\u001b[37m\u001b[0m \u001b[1m8s\u001b[0m 114ms/step - loss: 0.9506\n",
      "Epoch 15/120\n",
      "\u001b[1m69/69\u001b[0m \u001b[32m━━━━━━━━━━━━━━━━━━━━\u001b[0m\u001b[37m\u001b[0m \u001b[1m8s\u001b[0m 115ms/step - loss: 1.0434\n",
      "Epoch 16/120\n",
      "\u001b[1m69/69\u001b[0m \u001b[32m━━━━━━━━━━━━━━━━━━━━\u001b[0m\u001b[37m\u001b[0m \u001b[1m8s\u001b[0m 117ms/step - loss: 0.8894\n",
      "Epoch 17/120\n",
      "\u001b[1m69/69\u001b[0m \u001b[32m━━━━━━━━━━━━━━━━━━━━\u001b[0m\u001b[37m\u001b[0m \u001b[1m8s\u001b[0m 117ms/step - loss: 1.0890\n",
      "Epoch 18/120\n",
      "\u001b[1m69/69\u001b[0m \u001b[32m━━━━━━━━━━━━━━━━━━━━\u001b[0m\u001b[37m\u001b[0m \u001b[1m8s\u001b[0m 115ms/step - loss: 0.9187\n",
      "Epoch 19/120\n",
      "\u001b[1m69/69\u001b[0m \u001b[32m━━━━━━━━━━━━━━━━━━━━\u001b[0m\u001b[37m\u001b[0m \u001b[1m8s\u001b[0m 116ms/step - loss: 0.8837\n",
      "Epoch 20/120\n",
      "\u001b[1m69/69\u001b[0m \u001b[32m━━━━━━━━━━━━━━━━━━━━\u001b[0m\u001b[37m\u001b[0m \u001b[1m8s\u001b[0m 114ms/step - loss: 0.9849\n",
      "Epoch 21/120\n",
      "\u001b[1m69/69\u001b[0m \u001b[32m━━━━━━━━━━━━━━━━━━━━\u001b[0m\u001b[37m\u001b[0m \u001b[1m10s\u001b[0m 116ms/step - loss: 1.0226\n",
      "Epoch 22/120\n",
      "\u001b[1m69/69\u001b[0m \u001b[32m━━━━━━━━━━━━━━━━━━━━\u001b[0m\u001b[37m\u001b[0m \u001b[1m8s\u001b[0m 113ms/step - loss: 0.9962\n",
      "Epoch 23/120\n",
      "\u001b[1m69/69\u001b[0m \u001b[32m━━━━━━━━━━━━━━━━━━━━\u001b[0m\u001b[37m\u001b[0m \u001b[1m8s\u001b[0m 118ms/step - loss: 0.9335\n",
      "Epoch 24/120\n",
      "\u001b[1m69/69\u001b[0m \u001b[32m━━━━━━━━━━━━━━━━━━━━\u001b[0m\u001b[37m\u001b[0m \u001b[1m8s\u001b[0m 114ms/step - loss: 0.9360\n",
      "Epoch 25/120\n",
      "\u001b[1m69/69\u001b[0m \u001b[32m━━━━━━━━━━━━━━━━━━━━\u001b[0m\u001b[37m\u001b[0m \u001b[1m8s\u001b[0m 115ms/step - loss: 1.0450\n",
      "Epoch 26/120\n",
      "\u001b[1m69/69\u001b[0m \u001b[32m━━━━━━━━━━━━━━━━━━━━\u001b[0m\u001b[37m\u001b[0m \u001b[1m8s\u001b[0m 113ms/step - loss: 0.9578\n",
      "Epoch 27/120\n",
      "\u001b[1m69/69\u001b[0m \u001b[32m━━━━━━━━━━━━━━━━━━━━\u001b[0m\u001b[37m\u001b[0m \u001b[1m8s\u001b[0m 117ms/step - loss: 0.9587\n",
      "Epoch 28/120\n",
      "\u001b[1m69/69\u001b[0m \u001b[32m━━━━━━━━━━━━━━━━━━━━\u001b[0m\u001b[37m\u001b[0m \u001b[1m8s\u001b[0m 113ms/step - loss: 0.8996\n",
      "Epoch 29/120\n",
      "\u001b[1m69/69\u001b[0m \u001b[32m━━━━━━━━━━━━━━━━━━━━\u001b[0m\u001b[37m\u001b[0m \u001b[1m8s\u001b[0m 114ms/step - loss: 1.0166\n",
      "Epoch 30/120\n",
      "\u001b[1m69/69\u001b[0m \u001b[32m━━━━━━━━━━━━━━━━━━━━\u001b[0m\u001b[37m\u001b[0m \u001b[1m8s\u001b[0m 112ms/step - loss: 1.2508\n",
      "Epoch 31/120\n",
      "\u001b[1m69/69\u001b[0m \u001b[32m━━━━━━━━━━━━━━━━━━━━\u001b[0m\u001b[37m\u001b[0m \u001b[1m8s\u001b[0m 118ms/step - loss: 0.9792\n",
      "Epoch 32/120\n",
      "\u001b[1m69/69\u001b[0m \u001b[32m━━━━━━━━━━━━━━━━━━━━\u001b[0m\u001b[37m\u001b[0m \u001b[1m8s\u001b[0m 114ms/step - loss: 0.9847\n",
      "Epoch 33/120\n",
      "\u001b[1m69/69\u001b[0m \u001b[32m━━━━━━━━━━━━━━━━━━━━\u001b[0m\u001b[37m\u001b[0m \u001b[1m8s\u001b[0m 115ms/step - loss: 0.9793\n",
      "Epoch 34/120\n",
      "\u001b[1m69/69\u001b[0m \u001b[32m━━━━━━━━━━━━━━━━━━━━\u001b[0m\u001b[37m\u001b[0m \u001b[1m8s\u001b[0m 112ms/step - loss: 0.9549\n",
      "Epoch 35/120\n",
      "\u001b[1m69/69\u001b[0m \u001b[32m━━━━━━━━━━━━━━━━━━━━\u001b[0m\u001b[37m\u001b[0m \u001b[1m8s\u001b[0m 116ms/step - loss: 1.0664\n",
      "Epoch 36/120\n",
      "\u001b[1m69/69\u001b[0m \u001b[32m━━━━━━━━━━━━━━━━━━━━\u001b[0m\u001b[37m\u001b[0m \u001b[1m8s\u001b[0m 113ms/step - loss: 0.9446\n",
      "Epoch 37/120\n",
      "\u001b[1m69/69\u001b[0m \u001b[32m━━━━━━━━━━━━━━━━━━━━\u001b[0m\u001b[37m\u001b[0m \u001b[1m8s\u001b[0m 113ms/step - loss: 0.9719\n",
      "Epoch 38/120\n",
      "\u001b[1m69/69\u001b[0m \u001b[32m━━━━━━━━━━━━━━━━━━━━\u001b[0m\u001b[37m\u001b[0m \u001b[1m8s\u001b[0m 114ms/step - loss: 0.9441\n",
      "Epoch 39/120\n",
      "\u001b[1m69/69\u001b[0m \u001b[32m━━━━━━━━━━━━━━━━━━━━\u001b[0m\u001b[37m\u001b[0m \u001b[1m8s\u001b[0m 115ms/step - loss: 0.9942\n",
      "Epoch 40/120\n",
      "\u001b[1m69/69\u001b[0m \u001b[32m━━━━━━━━━━━━━━━━━━━━\u001b[0m\u001b[37m\u001b[0m \u001b[1m8s\u001b[0m 114ms/step - loss: 0.9967\n",
      "Epoch 41/120\n",
      "\u001b[1m69/69\u001b[0m \u001b[32m━━━━━━━━━━━━━━━━━━━━\u001b[0m\u001b[37m\u001b[0m \u001b[1m8s\u001b[0m 114ms/step - loss: 0.9841\n",
      "Epoch 42/120\n",
      "\u001b[1m69/69\u001b[0m \u001b[32m━━━━━━━━━━━━━━━━━━━━\u001b[0m\u001b[37m\u001b[0m \u001b[1m8s\u001b[0m 114ms/step - loss: 0.9240\n",
      "Epoch 43/120\n",
      "\u001b[1m69/69\u001b[0m \u001b[32m━━━━━━━━━━━━━━━━━━━━\u001b[0m\u001b[37m\u001b[0m \u001b[1m8s\u001b[0m 114ms/step - loss: 1.0102\n",
      "Epoch 44/120\n",
      "\u001b[1m69/69\u001b[0m \u001b[32m━━━━━━━━━━━━━━━━━━━━\u001b[0m\u001b[37m\u001b[0m \u001b[1m8s\u001b[0m 114ms/step - loss: 0.9484\n",
      "Epoch 45/120\n",
      "\u001b[1m69/69\u001b[0m \u001b[32m━━━━━━━━━━━━━━━━━━━━\u001b[0m\u001b[37m\u001b[0m \u001b[1m8s\u001b[0m 114ms/step - loss: 0.9608\n",
      "Epoch 46/120\n",
      "\u001b[1m69/69\u001b[0m \u001b[32m━━━━━━━━━━━━━━━━━━━━\u001b[0m\u001b[37m\u001b[0m \u001b[1m8s\u001b[0m 115ms/step - loss: 0.9032\n",
      "Epoch 47/120\n",
      "\u001b[1m69/69\u001b[0m \u001b[32m━━━━━━━━━━━━━━━━━━━━\u001b[0m\u001b[37m\u001b[0m \u001b[1m8s\u001b[0m 118ms/step - loss: 0.9167\n",
      "Epoch 48/120\n",
      "\u001b[1m69/69\u001b[0m \u001b[32m━━━━━━━━━━━━━━━━━━━━\u001b[0m\u001b[37m\u001b[0m \u001b[1m8s\u001b[0m 118ms/step - loss: 0.9912\n",
      "Epoch 49/120\n",
      "\u001b[1m69/69\u001b[0m \u001b[32m━━━━━━━━━━━━━━━━━━━━\u001b[0m\u001b[37m\u001b[0m \u001b[1m8s\u001b[0m 115ms/step - loss: 1.0081\n",
      "Epoch 50/120\n",
      "\u001b[1m69/69\u001b[0m \u001b[32m━━━━━━━━━━━━━━━━━━━━\u001b[0m\u001b[37m\u001b[0m \u001b[1m8s\u001b[0m 117ms/step - loss: 0.8308\n",
      "Epoch 51/120\n",
      "\u001b[1m69/69\u001b[0m \u001b[32m━━━━━━━━━━━━━━━━━━━━\u001b[0m\u001b[37m\u001b[0m \u001b[1m8s\u001b[0m 118ms/step - loss: 1.0257\n",
      "Epoch 52/120\n",
      "\u001b[1m69/69\u001b[0m \u001b[32m━━━━━━━━━━━━━━━━━━━━\u001b[0m\u001b[37m\u001b[0m \u001b[1m8s\u001b[0m 118ms/step - loss: 1.0016\n",
      "Epoch 53/120\n",
      "\u001b[1m69/69\u001b[0m \u001b[32m━━━━━━━━━━━━━━━━━━━━\u001b[0m\u001b[37m\u001b[0m \u001b[1m8s\u001b[0m 116ms/step - loss: 0.9572\n",
      "Epoch 54/120\n",
      "\u001b[1m69/69\u001b[0m \u001b[32m━━━━━━━━━━━━━━━━━━━━\u001b[0m\u001b[37m\u001b[0m \u001b[1m8s\u001b[0m 118ms/step - loss: 0.9247\n",
      "Epoch 55/120\n",
      "\u001b[1m69/69\u001b[0m \u001b[32m━━━━━━━━━━━━━━━━━━━━\u001b[0m\u001b[37m\u001b[0m \u001b[1m8s\u001b[0m 118ms/step - loss: 0.9204\n",
      "Epoch 56/120\n",
      "\u001b[1m69/69\u001b[0m \u001b[32m━━━━━━━━━━━━━━━━━━━━\u001b[0m\u001b[37m\u001b[0m \u001b[1m8s\u001b[0m 120ms/step - loss: 0.8859\n",
      "Epoch 57/120\n",
      "\u001b[1m69/69\u001b[0m \u001b[32m━━━━━━━━━━━━━━━━━━━━\u001b[0m\u001b[37m\u001b[0m \u001b[1m8s\u001b[0m 118ms/step - loss: 0.8329\n",
      "Epoch 58/120\n",
      "\u001b[1m69/69\u001b[0m \u001b[32m━━━━━━━━━━━━━━━━━━━━\u001b[0m\u001b[37m\u001b[0m \u001b[1m8s\u001b[0m 118ms/step - loss: 0.8833\n",
      "Epoch 59/120\n",
      "\u001b[1m69/69\u001b[0m \u001b[32m━━━━━━━━━━━━━━━━━━━━\u001b[0m\u001b[37m\u001b[0m \u001b[1m8s\u001b[0m 121ms/step - loss: 0.8649\n",
      "Epoch 60/120\n",
      "\u001b[1m69/69\u001b[0m \u001b[32m━━━━━━━━━━━━━━━━━━━━\u001b[0m\u001b[37m\u001b[0m \u001b[1m8s\u001b[0m 115ms/step - loss: 0.8891\n",
      "Epoch 61/120\n",
      "\u001b[1m69/69\u001b[0m \u001b[32m━━━━━━━━━━━━━━━━━━━━\u001b[0m\u001b[37m\u001b[0m \u001b[1m8s\u001b[0m 118ms/step - loss: 0.8668\n",
      "Epoch 62/120\n",
      "\u001b[1m69/69\u001b[0m \u001b[32m━━━━━━━━━━━━━━━━━━━━\u001b[0m\u001b[37m\u001b[0m \u001b[1m8s\u001b[0m 117ms/step - loss: 0.8884\n",
      "Epoch 63/120\n",
      "\u001b[1m69/69\u001b[0m \u001b[32m━━━━━━━━━━━━━━━━━━━━\u001b[0m\u001b[37m\u001b[0m \u001b[1m8s\u001b[0m 118ms/step - loss: 0.8590\n",
      "Epoch 64/120\n",
      "\u001b[1m69/69\u001b[0m \u001b[32m━━━━━━━━━━━━━━━━━━━━\u001b[0m\u001b[37m\u001b[0m \u001b[1m8s\u001b[0m 116ms/step - loss: 0.8551\n",
      "Epoch 65/120\n",
      "\u001b[1m69/69\u001b[0m \u001b[32m━━━━━━━━━━━━━━━━━━━━\u001b[0m\u001b[37m\u001b[0m \u001b[1m8s\u001b[0m 114ms/step - loss: 0.8676\n",
      "Epoch 66/120\n",
      "\u001b[1m69/69\u001b[0m \u001b[32m━━━━━━━━━━━━━━━━━━━━\u001b[0m\u001b[37m\u001b[0m \u001b[1m8s\u001b[0m 116ms/step - loss: 0.8328\n",
      "Epoch 67/120\n",
      "\u001b[1m69/69\u001b[0m \u001b[32m━━━━━━━━━━━━━━━━━━━━\u001b[0m\u001b[37m\u001b[0m \u001b[1m8s\u001b[0m 117ms/step - loss: 0.8162\n",
      "Epoch 68/120\n",
      "\u001b[1m69/69\u001b[0m \u001b[32m━━━━━━━━━━━━━━━━━━━━\u001b[0m\u001b[37m\u001b[0m \u001b[1m8s\u001b[0m 118ms/step - loss: 0.9049\n",
      "Epoch 69/120\n",
      "\u001b[1m69/69\u001b[0m \u001b[32m━━━━━━━━━━━━━━━━━━━━\u001b[0m\u001b[37m\u001b[0m \u001b[1m8s\u001b[0m 117ms/step - loss: 0.9997\n",
      "Epoch 70/120\n",
      "\u001b[1m69/69\u001b[0m \u001b[32m━━━━━━━━━━━━━━━━━━━━\u001b[0m\u001b[37m\u001b[0m \u001b[1m8s\u001b[0m 118ms/step - loss: 0.8804\n",
      "Epoch 71/120\n",
      "\u001b[1m69/69\u001b[0m \u001b[32m━━━━━━━━━━━━━━━━━━━━\u001b[0m\u001b[37m\u001b[0m \u001b[1m8s\u001b[0m 118ms/step - loss: 0.8891\n",
      "Epoch 72/120\n",
      "\u001b[1m69/69\u001b[0m \u001b[32m━━━━━━━━━━━━━━━━━━━━\u001b[0m\u001b[37m\u001b[0m \u001b[1m8s\u001b[0m 117ms/step - loss: 0.7959\n",
      "Epoch 73/120\n",
      "\u001b[1m69/69\u001b[0m \u001b[32m━━━━━━━━━━━━━━━━━━━━\u001b[0m\u001b[37m\u001b[0m \u001b[1m8s\u001b[0m 116ms/step - loss: 0.8323\n",
      "Epoch 74/120\n",
      "\u001b[1m69/69\u001b[0m \u001b[32m━━━━━━━━━━━━━━━━━━━━\u001b[0m\u001b[37m\u001b[0m \u001b[1m8s\u001b[0m 117ms/step - loss: 0.8377\n",
      "Epoch 75/120\n",
      "\u001b[1m69/69\u001b[0m \u001b[32m━━━━━━━━━━━━━━━━━━━━\u001b[0m\u001b[37m\u001b[0m \u001b[1m8s\u001b[0m 119ms/step - loss: 0.7897\n",
      "Epoch 76/120\n",
      "\u001b[1m69/69\u001b[0m \u001b[32m━━━━━━━━━━━━━━━━━━━━\u001b[0m\u001b[37m\u001b[0m \u001b[1m8s\u001b[0m 118ms/step - loss: 0.7619\n",
      "Epoch 77/120\n",
      "\u001b[1m69/69\u001b[0m \u001b[32m━━━━━━━━━━━━━━━━━━━━\u001b[0m\u001b[37m\u001b[0m \u001b[1m8s\u001b[0m 117ms/step - loss: 0.7446\n",
      "Epoch 78/120\n",
      "\u001b[1m69/69\u001b[0m \u001b[32m━━━━━━━━━━━━━━━━━━━━\u001b[0m\u001b[37m\u001b[0m \u001b[1m8s\u001b[0m 118ms/step - loss: 0.7833\n",
      "Epoch 79/120\n",
      "\u001b[1m69/69\u001b[0m \u001b[32m━━━━━━━━━━━━━━━━━━━━\u001b[0m\u001b[37m\u001b[0m \u001b[1m8s\u001b[0m 118ms/step - loss: 0.7458\n",
      "Epoch 80/120\n",
      "\u001b[1m69/69\u001b[0m \u001b[32m━━━━━━━━━━━━━━━━━━━━\u001b[0m\u001b[37m\u001b[0m \u001b[1m8s\u001b[0m 116ms/step - loss: 0.7591\n",
      "Epoch 81/120\n",
      "\u001b[1m69/69\u001b[0m \u001b[32m━━━━━━━━━━━━━━━━━━━━\u001b[0m\u001b[37m\u001b[0m \u001b[1m8s\u001b[0m 114ms/step - loss: 0.7373\n",
      "Epoch 82/120\n",
      "\u001b[1m69/69\u001b[0m \u001b[32m━━━━━━━━━━━━━━━━━━━━\u001b[0m\u001b[37m\u001b[0m \u001b[1m8s\u001b[0m 114ms/step - loss: 0.7068\n",
      "Epoch 83/120\n",
      "\u001b[1m69/69\u001b[0m \u001b[32m━━━━━━━━━━━━━━━━━━━━\u001b[0m\u001b[37m\u001b[0m \u001b[1m8s\u001b[0m 116ms/step - loss: 0.8941\n",
      "Epoch 84/120\n",
      "\u001b[1m69/69\u001b[0m \u001b[32m━━━━━━━━━━━━━━━━━━━━\u001b[0m\u001b[37m\u001b[0m \u001b[1m8s\u001b[0m 116ms/step - loss: 0.7428\n",
      "Epoch 85/120\n",
      "\u001b[1m69/69\u001b[0m \u001b[32m━━━━━━━━━━━━━━━━━━━━\u001b[0m\u001b[37m\u001b[0m \u001b[1m8s\u001b[0m 114ms/step - loss: 0.7847\n",
      "Epoch 86/120\n",
      "\u001b[1m69/69\u001b[0m \u001b[32m━━━━━━━━━━━━━━━━━━━━\u001b[0m\u001b[37m\u001b[0m \u001b[1m8s\u001b[0m 113ms/step - loss: 0.7622\n",
      "Epoch 87/120\n",
      "\u001b[1m69/69\u001b[0m \u001b[32m━━━━━━━━━━━━━━━━━━━━\u001b[0m\u001b[37m\u001b[0m \u001b[1m8s\u001b[0m 114ms/step - loss: 0.7192\n",
      "Epoch 88/120\n",
      "\u001b[1m69/69\u001b[0m \u001b[32m━━━━━━━━━━━━━━━━━━━━\u001b[0m\u001b[37m\u001b[0m \u001b[1m8s\u001b[0m 116ms/step - loss: 0.7104\n",
      "Epoch 89/120\n",
      "\u001b[1m69/69\u001b[0m \u001b[32m━━━━━━━━━━━━━━━━━━━━\u001b[0m\u001b[37m\u001b[0m \u001b[1m8s\u001b[0m 114ms/step - loss: 0.7983\n",
      "Epoch 90/120\n",
      "\u001b[1m69/69\u001b[0m \u001b[32m━━━━━━━━━━━━━━━━━━━━\u001b[0m\u001b[37m\u001b[0m \u001b[1m8s\u001b[0m 115ms/step - loss: 0.7745\n",
      "Epoch 91/120\n",
      "\u001b[1m69/69\u001b[0m \u001b[32m━━━━━━━━━━━━━━━━━━━━\u001b[0m\u001b[37m\u001b[0m \u001b[1m8s\u001b[0m 116ms/step - loss: 0.7538\n",
      "Epoch 92/120\n",
      "\u001b[1m69/69\u001b[0m \u001b[32m━━━━━━━━━━━━━━━━━━━━\u001b[0m\u001b[37m\u001b[0m \u001b[1m8s\u001b[0m 118ms/step - loss: 0.7210\n",
      "Epoch 93/120\n",
      "\u001b[1m69/69\u001b[0m \u001b[32m━━━━━━━━━━━━━━━━━━━━\u001b[0m\u001b[37m\u001b[0m \u001b[1m8s\u001b[0m 114ms/step - loss: 0.6868\n",
      "Epoch 94/120\n",
      "\u001b[1m69/69\u001b[0m \u001b[32m━━━━━━━━━━━━━━━━━━━━\u001b[0m\u001b[37m\u001b[0m \u001b[1m8s\u001b[0m 114ms/step - loss: 0.7303\n",
      "Epoch 95/120\n",
      "\u001b[1m69/69\u001b[0m \u001b[32m━━━━━━━━━━━━━━━━━━━━\u001b[0m\u001b[37m\u001b[0m \u001b[1m8s\u001b[0m 113ms/step - loss: 0.6212\n",
      "Epoch 96/120\n",
      "\u001b[1m69/69\u001b[0m \u001b[32m━━━━━━━━━━━━━━━━━━━━\u001b[0m\u001b[37m\u001b[0m \u001b[1m8s\u001b[0m 118ms/step - loss: 0.6961\n",
      "Epoch 97/120\n",
      "\u001b[1m69/69\u001b[0m \u001b[32m━━━━━━━━━━━━━━━━━━━━\u001b[0m\u001b[37m\u001b[0m \u001b[1m8s\u001b[0m 115ms/step - loss: 0.6920\n",
      "Epoch 98/120\n",
      "\u001b[1m69/69\u001b[0m \u001b[32m━━━━━━━━━━━━━━━━━━━━\u001b[0m\u001b[37m\u001b[0m \u001b[1m8s\u001b[0m 115ms/step - loss: 0.6695\n",
      "Epoch 99/120\n",
      "\u001b[1m69/69\u001b[0m \u001b[32m━━━━━━━━━━━━━━━━━━━━\u001b[0m\u001b[37m\u001b[0m \u001b[1m8s\u001b[0m 115ms/step - loss: 0.6418\n",
      "Epoch 100/120\n",
      "\u001b[1m69/69\u001b[0m \u001b[32m━━━━━━━━━━━━━━━━━━━━\u001b[0m\u001b[37m\u001b[0m \u001b[1m8s\u001b[0m 116ms/step - loss: 0.7116\n",
      "Epoch 101/120\n",
      "\u001b[1m69/69\u001b[0m \u001b[32m━━━━━━━━━━━━━━━━━━━━\u001b[0m\u001b[37m\u001b[0m \u001b[1m8s\u001b[0m 113ms/step - loss: 0.6429\n",
      "Epoch 102/120\n",
      "\u001b[1m69/69\u001b[0m \u001b[32m━━━━━━━━━━━━━━━━━━━━\u001b[0m\u001b[37m\u001b[0m \u001b[1m8s\u001b[0m 113ms/step - loss: 0.6400\n",
      "Epoch 103/120\n",
      "\u001b[1m69/69\u001b[0m \u001b[32m━━━━━━━━━━━━━━━━━━━━\u001b[0m\u001b[37m\u001b[0m \u001b[1m8s\u001b[0m 113ms/step - loss: 0.7325\n",
      "Epoch 104/120\n",
      "\u001b[1m69/69\u001b[0m \u001b[32m━━━━━━━━━━━━━━━━━━━━\u001b[0m\u001b[37m\u001b[0m \u001b[1m8s\u001b[0m 117ms/step - loss: 0.6376\n",
      "Epoch 105/120\n",
      "\u001b[1m69/69\u001b[0m \u001b[32m━━━━━━━━━━━━━━━━━━━━\u001b[0m\u001b[37m\u001b[0m \u001b[1m8s\u001b[0m 114ms/step - loss: 0.6627\n",
      "Epoch 106/120\n",
      "\u001b[1m69/69\u001b[0m \u001b[32m━━━━━━━━━━━━━━━━━━━━\u001b[0m\u001b[37m\u001b[0m \u001b[1m8s\u001b[0m 114ms/step - loss: 0.5974\n",
      "Epoch 107/120\n",
      "\u001b[1m69/69\u001b[0m \u001b[32m━━━━━━━━━━━━━━━━━━━━\u001b[0m\u001b[37m\u001b[0m \u001b[1m8s\u001b[0m 114ms/step - loss: 0.7293\n",
      "Epoch 108/120\n",
      "\u001b[1m69/69\u001b[0m \u001b[32m━━━━━━━━━━━━━━━━━━━━\u001b[0m\u001b[37m\u001b[0m \u001b[1m8s\u001b[0m 118ms/step - loss: 0.6233\n",
      "Epoch 109/120\n",
      "\u001b[1m69/69\u001b[0m \u001b[32m━━━━━━━━━━━━━━━━━━━━\u001b[0m\u001b[37m\u001b[0m \u001b[1m8s\u001b[0m 115ms/step - loss: 0.6666\n",
      "Epoch 110/120\n",
      "\u001b[1m69/69\u001b[0m \u001b[32m━━━━━━━━━━━━━━━━━━━━\u001b[0m\u001b[37m\u001b[0m \u001b[1m8s\u001b[0m 114ms/step - loss: 0.6412\n",
      "Epoch 111/120\n",
      "\u001b[1m69/69\u001b[0m \u001b[32m━━━━━━━━━━━━━━━━━━━━\u001b[0m\u001b[37m\u001b[0m \u001b[1m8s\u001b[0m 115ms/step - loss: 0.6316\n",
      "Epoch 112/120\n",
      "\u001b[1m69/69\u001b[0m \u001b[32m━━━━━━━━━━━━━━━━━━━━\u001b[0m\u001b[37m\u001b[0m \u001b[1m8s\u001b[0m 115ms/step - loss: 0.5896\n",
      "Epoch 113/120\n",
      "\u001b[1m69/69\u001b[0m \u001b[32m━━━━━━━━━━━━━━━━━━━━\u001b[0m\u001b[37m\u001b[0m \u001b[1m8s\u001b[0m 115ms/step - loss: 0.5902\n",
      "Epoch 114/120\n",
      "\u001b[1m69/69\u001b[0m \u001b[32m━━━━━━━━━━━━━━━━━━━━\u001b[0m\u001b[37m\u001b[0m \u001b[1m8s\u001b[0m 114ms/step - loss: 0.6215\n",
      "Epoch 115/120\n",
      "\u001b[1m69/69\u001b[0m \u001b[32m━━━━━━━━━━━━━━━━━━━━\u001b[0m\u001b[37m\u001b[0m \u001b[1m8s\u001b[0m 114ms/step - loss: 0.5864\n",
      "Epoch 116/120\n",
      "\u001b[1m69/69\u001b[0m \u001b[32m━━━━━━━━━━━━━━━━━━━━\u001b[0m\u001b[37m\u001b[0m \u001b[1m8s\u001b[0m 116ms/step - loss: 0.5204\n",
      "Epoch 117/120\n",
      "\u001b[1m69/69\u001b[0m \u001b[32m━━━━━━━━━━━━━━━━━━━━\u001b[0m\u001b[37m\u001b[0m \u001b[1m8s\u001b[0m 113ms/step - loss: 0.5796\n",
      "Epoch 118/120\n",
      "\u001b[1m69/69\u001b[0m \u001b[32m━━━━━━━━━━━━━━━━━━━━\u001b[0m\u001b[37m\u001b[0m \u001b[1m8s\u001b[0m 115ms/step - loss: 0.5518\n",
      "Epoch 119/120\n",
      "\u001b[1m69/69\u001b[0m \u001b[32m━━━━━━━━━━━━━━━━━━━━\u001b[0m\u001b[37m\u001b[0m \u001b[1m8s\u001b[0m 116ms/step - loss: 0.5776\n",
      "Epoch 120/120\n",
      "\u001b[1m69/69\u001b[0m \u001b[32m━━━━━━━━━━━━━━━━━━━━\u001b[0m\u001b[37m\u001b[0m \u001b[1m8s\u001b[0m 116ms/step - loss: 0.5376\n"
     ]
    }
   ],
   "source": [
    "history = model.fit(x_train, y_train, batch_size=32, epochs=120)"
   ]
  },
  {
   "cell_type": "markdown",
   "id": "79c1f58b",
   "metadata": {
    "papermill": {
     "duration": 0.446823,
     "end_time": "2025-06-22T14:48:58.541646",
     "exception": false,
     "start_time": "2025-06-22T14:48:58.094823",
     "status": "completed"
    },
    "tags": []
   },
   "source": [
    "## 学習したLSTMモデルでの予測\n",
    "精度確認のため、以下の指標を表示  \n",
    "- 二乗平均平方根誤差RMSE\n",
    "- 決定係数R2\n",
    "- 的中率（誤差が指定範囲以内に収まった率）\n",
    "- 方向性一致率（変化率の正負が一致した率）"
   ]
  },
  {
   "cell_type": "code",
   "execution_count": 9,
   "id": "f4c31321",
   "metadata": {
    "execution": {
     "iopub.execute_input": "2025-06-22T14:48:59.616573Z",
     "iopub.status.busy": "2025-06-22T14:48:59.616201Z",
     "iopub.status.idle": "2025-06-22T14:49:02.239403Z",
     "shell.execute_reply": "2025-06-22T14:49:02.237977Z"
    },
    "papermill": {
     "duration": 3.241036,
     "end_time": "2025-06-22T14:49:02.241110",
     "exception": false,
     "start_time": "2025-06-22T14:48:59.000074",
     "status": "completed"
    },
    "tags": []
   },
   "outputs": [
    {
     "name": "stdout",
     "output_type": "stream",
     "text": [
      "\u001b[1m18/18\u001b[0m \u001b[32m━━━━━━━━━━━━━━━━━━━━\u001b[0m\u001b[37m\u001b[0m \u001b[1m3s\u001b[0m 97ms/step\n",
      "平均  : -0.570[%]\n",
      "RMSE : 0.0287\n",
      "R²   : -1.3956\n",
      "的中率（予測誤差が閾値以内）:\n",
      "  ±0.1%以内: 5.17%\n",
      "  ±0.2%以内: 8.02%\n",
      "  ±0.5%以内: 17.65%\n",
      "方向性一致率: 53.12%\n"
     ]
    }
   ],
   "source": [
    "# 予測を実行\n",
    "predictions = model.predict(x_test)\n",
    "predicted = returns_scaler.inverse_transform(predictions)\n",
    "actual = returns_scaler.inverse_transform(y_test.reshape(-1, 1))\n",
    "\n",
    "# 評価指標の計算\n",
    "m_pred = np.mean(predicted) * 100  # %表示\n",
    "mse = mean_squared_error(actual, predicted)\n",
    "rmse = np.sqrt(mse)\n",
    "mae = mean_absolute_error(actual, predicted)\n",
    "r2 = r2_score(actual, predicted)\n",
    "\n",
    "# 結果表示\n",
    "print(f\"平均  : {m_pred:.3f}[%]\")\n",
    "# print(f\"MAE  : {mae:.4f}\")  # 平均絶対誤差: 0に近いほど良い\n",
    "print(f\"RMSE : {rmse:.4f}\")  # 二乗平均平方根誤差: 0に近いほど良い\n",
    "print(f\"R²   : {r2:.4f}\")    # 決定係数: 1に近いほど良い\n",
    "\n",
    "# 的中率（独自定義）を求める\n",
    "# 閾値リスト（パーセンテージ表記）\n",
    "thresholds = [0.001, 0.002, 0.005]\n",
    "\n",
    "print(\"的中率（予測誤差が閾値以内）:\")\n",
    "for threshold in thresholds:\n",
    "    errors = np.abs(predicted - actual)  # 絶対誤差を計算\n",
    "    hit_mask = errors <= threshold  # 的中条件\n",
    "    hit_rate = np.mean(hit_mask) * 100  # 的中率（%）を計算\n",
    "    print(f\"  ±{threshold*100:.1f}%以内: {hit_rate:.2f}%\")\n",
    "\n",
    "# 予測と実際の符号が一致しているか\n",
    "same_direction = np.sign(predicted) == np.sign(actual)\n",
    "directional_accuracy = np.mean(same_direction) * 100\n",
    "\n",
    "print(f\"方向性一致率: {directional_accuracy:.2f}%\")"
   ]
  },
  {
   "cell_type": "markdown",
   "id": "90d84026",
   "metadata": {
    "papermill": {
     "duration": 0.454329,
     "end_time": "2025-06-22T14:49:03.128644",
     "exception": false,
     "start_time": "2025-06-22T14:49:02.674315",
     "status": "completed"
    },
    "tags": []
   },
   "source": [
    "## 30日先までをマルチステップ予測\n",
    "LSTMモデルを使って 1日先→2日先→3日先…と、予測値を連鎖的に使って、30日先まで予測するマルチステップ予測（逐次予測） を行う関数を作る。  \n",
    "それによって作ったグラフと実際の株価グラフを並べて表示する。  \n",
    "これは無理のある予測で、間違いなく30日先では精度は低くなる。（純粋な実験）\n",
    "  \n",
    "まずは30日先まで予測を連鎖させる関数を作る。"
   ]
  },
  {
   "cell_type": "code",
   "execution_count": 10,
   "id": "817a193e",
   "metadata": {
    "execution": {
     "iopub.execute_input": "2025-06-22T14:49:04.134326Z",
     "iopub.status.busy": "2025-06-22T14:49:04.133882Z",
     "iopub.status.idle": "2025-06-22T14:49:04.141972Z",
     "shell.execute_reply": "2025-06-22T14:49:04.140808Z"
    },
    "papermill": {
     "duration": 0.441901,
     "end_time": "2025-06-22T14:49:04.143694",
     "exception": false,
     "start_time": "2025-06-22T14:49:03.701793",
     "status": "completed"
    },
    "tags": []
   },
   "outputs": [],
   "source": [
    "def predict_future_sequence(model, recent_data, window_size=60, future_days=30):\n",
    "    \"\"\"\n",
    "    model        : 学習済みのLSTMモデル（Keras）\n",
    "    recent_data  : 正規化された系列データ（scaled）で、shape=(window_size, 1)\n",
    "    window_size  : モデルの入力シーケンス長（通常は60）\n",
    "    future_days  : 何日先まで予測するか（通常は30）\n",
    "    \n",
    "    戻り値: 予測値のリスト（正規化済）\n",
    "    \"\"\"\n",
    "    predictions = []\n",
    "\n",
    "    # 予測に使うデータをコピー（書き換えないため）\n",
    "    input_seq = recent_data.copy()\n",
    "\n",
    "    for _ in range(future_days):\n",
    "        # モデルに入力するためshape変換: (1, window_size, x_train.shape[2])\n",
    "        x_input = np.reshape(input_seq, (1, window_size, x_train.shape[2]))\n",
    "\n",
    "        # 予測\n",
    "        pred = model.predict(x_input, verbose=0)\n",
    "        predictions.append(pred[0][0])  # スカラー値として保存\n",
    "\n",
    "        # input_seqを1つシフトして、予測値を末尾に追加\n",
    "        input_seq = np.append(input_seq[1:], [[pred[0][0]]], axis=0)\n",
    "\n",
    "    return predictions"
   ]
  },
  {
   "cell_type": "markdown",
   "id": "6d9eebea",
   "metadata": {
    "papermill": {
     "duration": 0.422183,
     "end_time": "2025-06-22T14:49:05.080827",
     "exception": false,
     "start_time": "2025-06-22T14:49:04.658644",
     "status": "completed"
    },
    "tags": []
   },
   "source": [
    "### 30日分のマルチステップ予測"
   ]
  },
  {
   "cell_type": "code",
   "execution_count": 11,
   "id": "685cb97d",
   "metadata": {
    "execution": {
     "iopub.execute_input": "2025-06-22T14:49:05.942493Z",
     "iopub.status.busy": "2025-06-22T14:49:05.942063Z",
     "iopub.status.idle": "2025-06-22T14:49:09.638113Z",
     "shell.execute_reply": "2025-06-22T14:49:09.637075Z"
    },
    "papermill": {
     "duration": 4.124991,
     "end_time": "2025-06-22T14:49:09.640470",
     "exception": false,
     "start_time": "2025-06-22T14:49:05.515479",
     "status": "completed"
    },
    "tags": []
   },
   "outputs": [],
   "source": [
    "# 30日前からさかのぼって60日分（正規化済）のデータを準備\n",
    "last_60_scaled = feature_data[[\"returns\", \"Volume\", \"MACD_Histogram\", \"Signal\", \"RSI9\", \"RSI14\"]][-90:-30].to_numpy().reshape(-1, 1)  # shape=(60, 1)\n",
    "\n",
    "# 最後の30日をマルチステップ予測\n",
    "future_returns_scaled = predict_future_sequence(model, last_60_scaled, window_size=60, future_days=30)\n",
    "\n",
    "# 逆正規化\n",
    "future_returns = returns_scaler.inverse_transform(np.array(future_returns_scaled).reshape(-1, 1))"
   ]
  },
  {
   "cell_type": "markdown",
   "id": "12020b4c",
   "metadata": {
    "papermill": {
     "duration": 0.447985,
     "end_time": "2025-06-22T14:49:10.640789",
     "exception": false,
     "start_time": "2025-06-22T14:49:10.192804",
     "status": "completed"
    },
    "tags": []
   },
   "source": [
    "### 求まったのはリターン（変化率）なので、価格に変換する"
   ]
  },
  {
   "cell_type": "code",
   "execution_count": 12,
   "id": "c871a773",
   "metadata": {
    "execution": {
     "iopub.execute_input": "2025-06-22T14:49:11.656051Z",
     "iopub.status.busy": "2025-06-22T14:49:11.655631Z",
     "iopub.status.idle": "2025-06-22T14:49:11.663969Z",
     "shell.execute_reply": "2025-06-22T14:49:11.662822Z"
    },
    "papermill": {
     "duration": 0.576365,
     "end_time": "2025-06-22T14:49:11.665546",
     "exception": false,
     "start_time": "2025-06-22T14:49:11.089181",
     "status": "completed"
    },
    "tags": []
   },
   "outputs": [
    {
     "name": "stdout",
     "output_type": "stream",
     "text": [
      "起点価格: 152.80\n",
      "予測された価格（最初の5日）: [152.8, 149.14685639441015, 150.17963383588622, 143.75613729163592, 150.58280895966985]\n"
     ]
    }
   ],
   "source": [
    "# 最後の実際の価格\n",
    "last_price = dataset.iloc[-31]['Close']\n",
    "\n",
    "# リターンから株価へ変換\n",
    "future_preds = [last_price]\n",
    "for ret in future_returns:\n",
    "    next_price = future_preds[-1] * (1 + ret[0])\n",
    "    future_preds.append(next_price)\n",
    "\n",
    "# 先頭のlast_priceだけは実際の値であることに注意\n",
    "\n",
    "print(f\"起点価格: {last_price:.2f}\")\n",
    "print(f\"予測された価格（最初の5日）: {future_preds[:5]}\")"
   ]
  },
  {
   "cell_type": "markdown",
   "id": "b972cafb",
   "metadata": {
    "papermill": {
     "duration": 0.446445,
     "end_time": "2025-06-22T14:49:12.554325",
     "exception": false,
     "start_time": "2025-06-22T14:49:12.107880",
     "status": "completed"
    },
    "tags": []
   },
   "source": [
    "### 実際の株価とマルチステップ予測値をグラフで比較\n",
    "実際の株価＝Val  \n",
    "予測値＝Predictions"
   ]
  },
  {
   "cell_type": "code",
   "execution_count": 13,
   "id": "f9067afc",
   "metadata": {
    "execution": {
     "iopub.execute_input": "2025-06-22T14:49:13.572826Z",
     "iopub.status.busy": "2025-06-22T14:49:13.572398Z",
     "iopub.status.idle": "2025-06-22T14:49:13.887856Z",
     "shell.execute_reply": "2025-06-22T14:49:13.886697Z"
    },
    "papermill": {
     "duration": 0.76705,
     "end_time": "2025-06-22T14:49:13.889839",
     "exception": false,
     "start_time": "2025-06-22T14:49:13.122789",
     "status": "completed"
    },
    "tags": []
   },
   "outputs": [
    {
     "data": {
      "image/png": "[encoded data removed]",
      "text/plain": [
       "<Figure size 1600x600 with 1 Axes>"
      ]
     },
     "metadata": {},
     "output_type": "display_data"
    }
   ],
   "source": [
    "train = data[:-30]\n",
    "valid = data[-31:].copy()  # コピーを作成 グラフをつなげるために31日前からのデータ\n",
    "valid['Predictions'] = future_preds\n",
    "\n",
    "plt.figure(figsize=(16, 6))\n",
    "plt.title('Model')\n",
    "plt.xlabel('Date', fontsize=14)\n",
    "plt.ylabel('Close Price USD ($)', fontsize=14)\n",
    "plt.plot(train['Close'][-30:], label='Train')\n",
    "plt.plot(valid['Close'], label='Val')\n",
    "plt.plot(valid['Predictions'], label='Predictions')\n",
    "plt.legend(loc='lower right')\n",
    "plt.show()"
   ]
  },
  {
   "cell_type": "markdown",
   "id": "f5126e23",
   "metadata": {
    "papermill": {
     "duration": 0.512964,
     "end_time": "2025-06-22T14:49:14.832341",
     "exception": false,
     "start_time": "2025-06-22T14:49:14.319377",
     "status": "completed"
    },
    "tags": []
   },
   "source": [
    "## --- 1) 予測結果の評価 ---  \n",
    "予測変化率の平均は0.054％なので誤差0.1以内には収まってほしいものだが、ダメだった。  \n",
    "方向性一致率（今回の結果53.30%）を見ると、低い数値ではあるが、この50+3.30%は投資において大きなリードとなる可能性がある。  \n",
    "他のモデルを使いこれを60%まで高めたい。  \n",
    "    \n",
    "モデルの学習性能を上げることもそうだが、有効な特徴量を増やすことも考える必要がある。  \n",
    "ディープラーニングが万能の魔法でないことが確認できただけでも前進である。"
   ]
  },
  {
   "cell_type": "markdown",
   "id": "e3c18b2c",
   "metadata": {
    "papermill": {
     "duration": 0.571328,
     "end_time": "2025-06-22T14:49:15.850122",
     "exception": false,
     "start_time": "2025-06-22T14:49:15.278794",
     "status": "completed"
    },
    "tags": []
   },
   "source": [
    "# 2) Bidirectional LSTM + Attention\n",
    "#### モデル概略：  \n",
    "- Bidirectional LSTM により前後のデータから推移を学習\n",
    "- 複数特徴量を入力可能（例：終値、移動平均、出来高など）\n",
    "- Attention機構 による重要な時点の強調\n",
    "- Attentionレイヤーを可視化して「モデルがどの時点に注目して予測を行ったか」を確認可能にする\n",
    "  \n",
    "### Attentionの効果  \n",
    "作成したAttention層は、時間軸方向の重み付けを学習し、重要なタイムステップに集中できるようになる。これはニュースやイベントなどの「特定時点の影響が強い」金融時系列に有効である。  \n",
    "  \n",
    "このモデルをまとめると、LSTMの強み（時系列モデリング）に加えて、Bidirectionalで双方向の文脈を考慮し、Attentionで重要タイムステップを抽出し、DropoutとDenseで汎化性能を高めたモデルである。"
   ]
  },
  {
   "cell_type": "markdown",
   "id": "bd647403",
   "metadata": {
    "papermill": {
     "duration": 0.422076,
     "end_time": "2025-06-22T14:49:16.701564",
     "exception": false,
     "start_time": "2025-06-22T14:49:16.279488",
     "status": "completed"
    },
    "tags": []
   },
   "source": [
    "## データの準備  \n",
    "1)LSTM で使った入力データをそのまま使う  \n",
    "x_train shape: (2185, 60, 6)  \n",
    "y_train shape: (2185,)  \n",
    "x_test shape: (561, 60, 6)  \n",
    "y_test shape: (561,)  "
   ]
  },
  {
   "cell_type": "markdown",
   "id": "87773b60",
   "metadata": {
    "papermill": {
     "duration": 0.56621,
     "end_time": "2025-06-22T14:49:17.704854",
     "exception": false,
     "start_time": "2025-06-22T14:49:17.138644",
     "status": "completed"
    },
    "tags": []
   },
   "source": [
    "## Bidirectional LSTMモデルとAttentionレイヤーの実装\n",
    "### Attentionレイヤーについて\n",
    "LSTMやGRUの出力に使えるような自作のレイヤーであり、keras.layers.Attentionのようにクエリ（query）・キー（key）・バリュー（value）に基づくattentionを計算するものではない。  \n",
    "#### < 特徴 >\n",
    "- 時系列データ向けのシンプルなattention\n",
    "- 各時刻ステップにスカラーの重みを付け、全体の加重平均（コンテキストベクトル）を出力\n",
    "- 単方向（self-attentionではない）\n",
    "- スカラー重み（1ユニット）を使ってsoft attentionを実装\n",
    "- return_attention=Trueでattention weightsを出力（可視化向け）"
   ]
  },
  {
   "cell_type": "code",
   "execution_count": 14,
   "id": "1f91bf0c",
   "metadata": {
    "execution": {
     "iopub.execute_input": "2025-06-22T14:49:18.582841Z",
     "iopub.status.busy": "2025-06-22T14:49:18.582406Z",
     "iopub.status.idle": "2025-06-22T14:49:18.696816Z",
     "shell.execute_reply": "2025-06-22T14:49:18.695614Z"
    },
    "papermill": {
     "duration": 0.556223,
     "end_time": "2025-06-22T14:49:18.698789",
     "exception": false,
     "start_time": "2025-06-22T14:49:18.142566",
     "status": "completed"
    },
    "tags": []
   },
   "outputs": [],
   "source": [
    "import tensorflow as tf\n",
    "from tensorflow.keras.models import Model\n",
    "from tensorflow.keras.layers import Input, LSTM, Dense, Dropout, Bidirectional, Layer, BatchNormalization\n",
    "import tensorflow.keras.backend as K\n",
    "\n",
    "# Attentionレイヤー（重み出力用）\n",
    "class AttentionLayer(Layer):\n",
    "    def __init__(self, return_attention=False, **kwargs):\n",
    "        super().__init__(**kwargs)  # Kerasカスタムレイヤーの内部的な初期化処理を実行\n",
    "        self.return_attention = return_attention  # Attentionの重み出力をするか否か\n",
    "\n",
    "    def build(self, input_shape):  # レイヤー内部の学習可能なパラメータ（重みなど）を定義\n",
    "                                   # 入力を与えると自動で実行\n",
    "                                   # W（重み行列）, b（バイアス）\n",
    "        self.W = self.add_weight(name='att_weight',\n",
    "                                 shape=(input_shape[-1], 1),    # 特徴量の次元数（LSTMの出力次元数）\n",
    "                                 initializer='glorot_uniform',  # Xavier初期化\n",
    "                                 trainable=True)                # 学習対象\n",
    "        self.b = self.add_weight(name='att_bias',\n",
    "                                 shape=(input_shape[1], 1),  # 時系列の長さ（タイムステップ数）\n",
    "                                 initializer='zeros',        # 初期値 0\n",
    "                                 trainable=True)             # 学習対象\n",
    "        super().build(input_shape)\n",
    "\n",
    "    def call(self, x):  # Kerasのカスタムレイヤーで定義するメインの処理関数\n",
    "                        # __call()__に入れられ、自動で実行\n",
    "        e = K.tanh(K.dot(x, self.W) + self.b)        # スコア\n",
    "        a = K.softmax(e, axis=1)                     # 重み（合計1）\n",
    "        output = x * a                               # 各時刻の出力に重みを乗算\n",
    "        context_vector = K.sum(output, axis=1)       # 重み付き和\n",
    "        if self.return_attention:\n",
    "            return [context_vector, a]\n",
    "        else:\n",
    "            return context_vector"
   ]
  },
  {
   "cell_type": "markdown",
   "id": "7e2e5e89",
   "metadata": {
    "papermill": {
     "duration": 0.463212,
     "end_time": "2025-06-22T14:49:19.717269",
     "exception": false,
     "start_time": "2025-06-22T14:49:19.254057",
     "status": "completed"
    },
    "tags": []
   },
   "source": [
    "### Bidirectional LSTMモデルの実装\n",
    "学習能力が弱かったようなので、Bidirectional LSTMの後にDense層とBatchNormalizationを追加した。"
   ]
  },
  {
   "cell_type": "code",
   "execution_count": 15,
   "id": "9c4863d2",
   "metadata": {
    "execution": {
     "iopub.execute_input": "2025-06-22T14:49:20.755846Z",
     "iopub.status.busy": "2025-06-22T14:49:20.755452Z",
     "iopub.status.idle": "2025-06-22T14:49:20.763680Z",
     "shell.execute_reply": "2025-06-22T14:49:20.762731Z"
    },
    "papermill": {
     "duration": 0.470682,
     "end_time": "2025-06-22T14:49:20.766029",
     "exception": false,
     "start_time": "2025-06-22T14:49:20.295347",
     "status": "completed"
    },
    "tags": []
   },
   "outputs": [],
   "source": [
    "# モデル定義関数\n",
    "def create_model_with_attention(seq_len=60, num_features=6):\n",
    "    # 入力の形状（例：60タイムステップ × 特徴量数）\n",
    "    inputs = Input(shape=(seq_len, num_features))\n",
    "    \n",
    "    x = Bidirectional(LSTM(64, return_sequences=True))(inputs)\n",
    "    x = Dropout(0.2)(x)\n",
    "    x = Bidirectional(LSTM(64, return_sequences=True))(x)\n",
    "    x = Dropout(0.2)(x)\n",
    "\n",
    "    context_vector, attention_weights = AttentionLayer(return_attention=True)(x)\n",
    "\n",
    "    x = Dense(128, activation='relu')(context_vector)\n",
    "    x = BatchNormalization()(x)\n",
    "    x = Dropout(0.2)(x)\n",
    "\n",
    "    x = Dense(64, activation='relu')(x)\n",
    "    x = BatchNormalization()(x)\n",
    "    x = Dropout(0.2)(x)\n",
    "\n",
    "    x = Dense(32, activation='relu')(x)\n",
    "    x = Dropout(0.2)(x)\n",
    "\n",
    "    output = Dense(1)(x)  # 予測値（1日後の変化率）\n",
    "\n",
    "    model = Model(inputs=inputs, outputs=output)\n",
    "    att_model = Model(inputs=inputs, outputs=attention_weights)  # Attention可視化用モデル\n",
    "\n",
    "    model.compile(optimizer='adam', loss='mean_squared_error')\n",
    "    return model, att_model"
   ]
  },
  {
   "cell_type": "markdown",
   "id": "49397550",
   "metadata": {
    "papermill": {
     "duration": 0.446293,
     "end_time": "2025-06-22T14:49:21.657346",
     "exception": false,
     "start_time": "2025-06-22T14:49:21.211053",
     "status": "completed"
    },
    "tags": []
   },
   "source": [
    "### モデルの学習\n",
    "batch_size=16, epochs=100（データを16分割し実行、それを100回繰り返す）"
   ]
  },
  {
   "cell_type": "code",
   "execution_count": 16,
   "id": "9ed23975",
   "metadata": {
    "execution": {
     "iopub.execute_input": "2025-06-22T14:49:22.676421Z",
     "iopub.status.busy": "2025-06-22T14:49:22.676081Z",
     "iopub.status.idle": "2025-06-22T14:59:58.865250Z",
     "shell.execute_reply": "2025-06-22T14:59:58.863839Z"
    },
    "papermill": {
     "duration": 636.634164,
     "end_time": "2025-06-22T14:59:58.867732",
     "exception": false,
     "start_time": "2025-06-22T14:49:22.233568",
     "status": "completed"
    },
    "tags": []
   },
   "outputs": [
    {
     "name": "stdout",
     "output_type": "stream",
     "text": [
      "Epoch 1/100\n",
      "\u001b[1m69/69\u001b[0m \u001b[32m━━━━━━━━━━━━━━━━━━━━\u001b[0m\u001b[37m\u001b[0m \u001b[1m22s\u001b[0m 87ms/step - loss: 2.1487\n",
      "Epoch 2/100\n",
      "\u001b[1m69/69\u001b[0m \u001b[32m━━━━━━━━━━━━━━━━━━━━\u001b[0m\u001b[37m\u001b[0m \u001b[1m6s\u001b[0m 88ms/step - loss: 1.3969\n",
      "Epoch 3/100\n",
      "\u001b[1m69/69\u001b[0m \u001b[32m━━━━━━━━━━━━━━━━━━━━\u001b[0m\u001b[37m\u001b[0m \u001b[1m6s\u001b[0m 89ms/step - loss: 1.2632\n",
      "Epoch 4/100\n",
      "\u001b[1m69/69\u001b[0m \u001b[32m━━━━━━━━━━━━━━━━━━━━\u001b[0m\u001b[37m\u001b[0m \u001b[1m7s\u001b[0m 94ms/step - loss: 1.1749\n",
      "Epoch 5/100\n",
      "\u001b[1m69/69\u001b[0m \u001b[32m━━━━━━━━━━━━━━━━━━━━\u001b[0m\u001b[37m\u001b[0m \u001b[1m6s\u001b[0m 90ms/step - loss: 1.2456\n",
      "Epoch 6/100\n",
      "\u001b[1m69/69\u001b[0m \u001b[32m━━━━━━━━━━━━━━━━━━━━\u001b[0m\u001b[37m\u001b[0m \u001b[1m6s\u001b[0m 87ms/step - loss: 1.0999\n",
      "Epoch 7/100\n",
      "\u001b[1m69/69\u001b[0m \u001b[32m━━━━━━━━━━━━━━━━━━━━\u001b[0m\u001b[37m\u001b[0m \u001b[1m6s\u001b[0m 89ms/step - loss: 1.0850\n",
      "Epoch 8/100\n",
      "\u001b[1m69/69\u001b[0m \u001b[32m━━━━━━━━━━━━━━━━━━━━\u001b[0m\u001b[37m\u001b[0m \u001b[1m6s\u001b[0m 89ms/step - loss: 1.0611\n",
      "Epoch 9/100\n",
      "\u001b[1m69/69\u001b[0m \u001b[32m━━━━━━━━━━━━━━━━━━━━\u001b[0m\u001b[37m\u001b[0m \u001b[1m6s\u001b[0m 94ms/step - loss: 1.0710\n",
      "Epoch 10/100\n",
      "\u001b[1m69/69\u001b[0m \u001b[32m━━━━━━━━━━━━━━━━━━━━\u001b[0m\u001b[37m\u001b[0m \u001b[1m6s\u001b[0m 89ms/step - loss: 1.1345\n",
      "Epoch 11/100\n",
      "\u001b[1m69/69\u001b[0m \u001b[32m━━━━━━━━━━━━━━━━━━━━\u001b[0m\u001b[37m\u001b[0m \u001b[1m6s\u001b[0m 87ms/step - loss: 0.9550\n",
      "Epoch 12/100\n",
      "\u001b[1m69/69\u001b[0m \u001b[32m━━━━━━━━━━━━━━━━━━━━\u001b[0m\u001b[37m\u001b[0m \u001b[1m6s\u001b[0m 89ms/step - loss: 0.9433\n",
      "Epoch 13/100\n",
      "\u001b[1m69/69\u001b[0m \u001b[32m━━━━━━━━━━━━━━━━━━━━\u001b[0m\u001b[37m\u001b[0m \u001b[1m6s\u001b[0m 92ms/step - loss: 1.0513\n",
      "Epoch 14/100\n",
      "\u001b[1m69/69\u001b[0m \u001b[32m━━━━━━━━━━━━━━━━━━━━\u001b[0m\u001b[37m\u001b[0m \u001b[1m6s\u001b[0m 92ms/step - loss: 0.9598\n",
      "Epoch 15/100\n",
      "\u001b[1m69/69\u001b[0m \u001b[32m━━━━━━━━━━━━━━━━━━━━\u001b[0m\u001b[37m\u001b[0m \u001b[1m6s\u001b[0m 93ms/step - loss: 1.0407\n",
      "Epoch 16/100\n",
      "\u001b[1m69/69\u001b[0m \u001b[32m━━━━━━━━━━━━━━━━━━━━\u001b[0m\u001b[37m\u001b[0m \u001b[1m6s\u001b[0m 89ms/step - loss: 0.9276\n",
      "Epoch 17/100\n",
      "\u001b[1m69/69\u001b[0m \u001b[32m━━━━━━━━━━━━━━━━━━━━\u001b[0m\u001b[37m\u001b[0m \u001b[1m10s\u001b[0m 91ms/step - loss: 0.9020\n",
      "Epoch 18/100\n",
      "\u001b[1m69/69\u001b[0m \u001b[32m━━━━━━━━━━━━━━━━━━━━\u001b[0m\u001b[37m\u001b[0m \u001b[1m6s\u001b[0m 88ms/step - loss: 1.1261\n",
      "Epoch 19/100\n",
      "\u001b[1m69/69\u001b[0m \u001b[32m━━━━━━━━━━━━━━━━━━━━\u001b[0m\u001b[37m\u001b[0m \u001b[1m6s\u001b[0m 93ms/step - loss: 0.9982\n",
      "Epoch 20/100\n",
      "\u001b[1m69/69\u001b[0m \u001b[32m━━━━━━━━━━━━━━━━━━━━\u001b[0m\u001b[37m\u001b[0m \u001b[1m6s\u001b[0m 88ms/step - loss: 0.8972\n",
      "Epoch 21/100\n",
      "\u001b[1m69/69\u001b[0m \u001b[32m━━━━━━━━━━━━━━━━━━━━\u001b[0m\u001b[37m\u001b[0m \u001b[1m6s\u001b[0m 88ms/step - loss: 1.0608\n",
      "Epoch 22/100\n",
      "\u001b[1m69/69\u001b[0m \u001b[32m━━━━━━━━━━━━━━━━━━━━\u001b[0m\u001b[37m\u001b[0m \u001b[1m6s\u001b[0m 92ms/step - loss: 0.9459\n",
      "Epoch 23/100\n",
      "\u001b[1m69/69\u001b[0m \u001b[32m━━━━━━━━━━━━━━━━━━━━\u001b[0m\u001b[37m\u001b[0m \u001b[1m6s\u001b[0m 87ms/step - loss: 1.0626\n",
      "Epoch 24/100\n",
      "\u001b[1m69/69\u001b[0m \u001b[32m━━━━━━━━━━━━━━━━━━━━\u001b[0m\u001b[37m\u001b[0m \u001b[1m7s\u001b[0m 96ms/step - loss: 0.9650\n",
      "Epoch 25/100\n",
      "\u001b[1m69/69\u001b[0m \u001b[32m━━━━━━━━━━━━━━━━━━━━\u001b[0m\u001b[37m\u001b[0m \u001b[1m6s\u001b[0m 89ms/step - loss: 0.9095\n",
      "Epoch 26/100\n",
      "\u001b[1m69/69\u001b[0m \u001b[32m━━━━━━━━━━━━━━━━━━━━\u001b[0m\u001b[37m\u001b[0m \u001b[1m6s\u001b[0m 89ms/step - loss: 0.9631\n",
      "Epoch 27/100\n",
      "\u001b[1m69/69\u001b[0m \u001b[32m━━━━━━━━━━━━━━━━━━━━\u001b[0m\u001b[37m\u001b[0m \u001b[1m6s\u001b[0m 89ms/step - loss: 0.9791\n",
      "Epoch 28/100\n",
      "\u001b[1m69/69\u001b[0m \u001b[32m━━━━━━━━━━━━━━━━━━━━\u001b[0m\u001b[37m\u001b[0m \u001b[1m6s\u001b[0m 87ms/step - loss: 1.0662\n",
      "Epoch 29/100\n",
      "\u001b[1m69/69\u001b[0m \u001b[32m━━━━━━━━━━━━━━━━━━━━\u001b[0m\u001b[37m\u001b[0m \u001b[1m6s\u001b[0m 91ms/step - loss: 0.9836\n",
      "Epoch 30/100\n",
      "\u001b[1m69/69\u001b[0m \u001b[32m━━━━━━━━━━━━━━━━━━━━\u001b[0m\u001b[37m\u001b[0m \u001b[1m6s\u001b[0m 90ms/step - loss: 0.9933\n",
      "Epoch 31/100\n",
      "\u001b[1m69/69\u001b[0m \u001b[32m━━━━━━━━━━━━━━━━━━━━\u001b[0m\u001b[37m\u001b[0m \u001b[1m6s\u001b[0m 86ms/step - loss: 0.9945\n",
      "Epoch 32/100\n",
      "\u001b[1m69/69\u001b[0m \u001b[32m━━━━━━━━━━━━━━━━━━━━\u001b[0m\u001b[37m\u001b[0m \u001b[1m6s\u001b[0m 90ms/step - loss: 0.8965\n",
      "Epoch 33/100\n",
      "\u001b[1m69/69\u001b[0m \u001b[32m━━━━━━━━━━━━━━━━━━━━\u001b[0m\u001b[37m\u001b[0m \u001b[1m6s\u001b[0m 86ms/step - loss: 0.9465\n",
      "Epoch 34/100\n",
      "\u001b[1m69/69\u001b[0m \u001b[32m━━━━━━━━━━━━━━━━━━━━\u001b[0m\u001b[37m\u001b[0m \u001b[1m6s\u001b[0m 87ms/step - loss: 1.0817\n",
      "Epoch 35/100\n",
      "\u001b[1m69/69\u001b[0m \u001b[32m━━━━━━━━━━━━━━━━━━━━\u001b[0m\u001b[37m\u001b[0m \u001b[1m7s\u001b[0m 94ms/step - loss: 0.9948\n",
      "Epoch 36/100\n",
      "\u001b[1m69/69\u001b[0m \u001b[32m━━━━━━━━━━━━━━━━━━━━\u001b[0m\u001b[37m\u001b[0m \u001b[1m6s\u001b[0m 86ms/step - loss: 1.0619\n",
      "Epoch 37/100\n",
      "\u001b[1m69/69\u001b[0m \u001b[32m━━━━━━━━━━━━━━━━━━━━\u001b[0m\u001b[37m\u001b[0m \u001b[1m6s\u001b[0m 90ms/step - loss: 0.9513\n",
      "Epoch 38/100\n",
      "\u001b[1m69/69\u001b[0m \u001b[32m━━━━━━━━━━━━━━━━━━━━\u001b[0m\u001b[37m\u001b[0m \u001b[1m6s\u001b[0m 86ms/step - loss: 1.0037\n",
      "Epoch 39/100\n",
      "\u001b[1m69/69\u001b[0m \u001b[32m━━━━━━━━━━━━━━━━━━━━\u001b[0m\u001b[37m\u001b[0m \u001b[1m6s\u001b[0m 88ms/step - loss: 0.9960\n",
      "Epoch 40/100\n",
      "\u001b[1m69/69\u001b[0m \u001b[32m━━━━━━━━━━━━━━━━━━━━\u001b[0m\u001b[37m\u001b[0m \u001b[1m7s\u001b[0m 94ms/step - loss: 1.0654\n",
      "Epoch 41/100\n",
      "\u001b[1m69/69\u001b[0m \u001b[32m━━━━━━━━━━━━━━━━━━━━\u001b[0m\u001b[37m\u001b[0m \u001b[1m6s\u001b[0m 85ms/step - loss: 1.0052\n",
      "Epoch 42/100\n",
      "\u001b[1m69/69\u001b[0m \u001b[32m━━━━━━━━━━━━━━━━━━━━\u001b[0m\u001b[37m\u001b[0m \u001b[1m6s\u001b[0m 91ms/step - loss: 1.0112\n",
      "Epoch 43/100\n",
      "\u001b[1m69/69\u001b[0m \u001b[32m━━━━━━━━━━━━━━━━━━━━\u001b[0m\u001b[37m\u001b[0m \u001b[1m6s\u001b[0m 86ms/step - loss: 1.0323\n",
      "Epoch 44/100\n",
      "\u001b[1m69/69\u001b[0m \u001b[32m━━━━━━━━━━━━━━━━━━━━\u001b[0m\u001b[37m\u001b[0m \u001b[1m6s\u001b[0m 87ms/step - loss: 1.0260\n",
      "Epoch 45/100\n",
      "\u001b[1m69/69\u001b[0m \u001b[32m━━━━━━━━━━━━━━━━━━━━\u001b[0m\u001b[37m\u001b[0m \u001b[1m6s\u001b[0m 91ms/step - loss: 0.9950\n",
      "Epoch 46/100\n",
      "\u001b[1m69/69\u001b[0m \u001b[32m━━━━━━━━━━━━━━━━━━━━\u001b[0m\u001b[37m\u001b[0m \u001b[1m6s\u001b[0m 86ms/step - loss: 1.0337\n",
      "Epoch 47/100\n",
      "\u001b[1m69/69\u001b[0m \u001b[32m━━━━━━━━━━━━━━━━━━━━\u001b[0m\u001b[37m\u001b[0m \u001b[1m6s\u001b[0m 90ms/step - loss: 0.9764\n",
      "Epoch 48/100\n",
      "\u001b[1m69/69\u001b[0m \u001b[32m━━━━━━━━━━━━━━━━━━━━\u001b[0m\u001b[37m\u001b[0m \u001b[1m6s\u001b[0m 87ms/step - loss: 1.0582\n",
      "Epoch 49/100\n",
      "\u001b[1m69/69\u001b[0m \u001b[32m━━━━━━━━━━━━━━━━━━━━\u001b[0m\u001b[37m\u001b[0m \u001b[1m6s\u001b[0m 86ms/step - loss: 0.9527\n",
      "Epoch 50/100\n",
      "\u001b[1m69/69\u001b[0m \u001b[32m━━━━━━━━━━━━━━━━━━━━\u001b[0m\u001b[37m\u001b[0m \u001b[1m6s\u001b[0m 87ms/step - loss: 0.9219\n",
      "Epoch 51/100\n",
      "\u001b[1m69/69\u001b[0m \u001b[32m━━━━━━━━━━━━━━━━━━━━\u001b[0m\u001b[37m\u001b[0m \u001b[1m6s\u001b[0m 93ms/step - loss: 1.0611\n",
      "Epoch 52/100\n",
      "\u001b[1m69/69\u001b[0m \u001b[32m━━━━━━━━━━━━━━━━━━━━\u001b[0m\u001b[37m\u001b[0m \u001b[1m6s\u001b[0m 91ms/step - loss: 0.8984\n",
      "Epoch 53/100\n",
      "\u001b[1m69/69\u001b[0m \u001b[32m━━━━━━━━━━━━━━━━━━━━\u001b[0m\u001b[37m\u001b[0m \u001b[1m6s\u001b[0m 88ms/step - loss: 0.9543\n",
      "Epoch 54/100\n",
      "\u001b[1m69/69\u001b[0m \u001b[32m━━━━━━━━━━━━━━━━━━━━\u001b[0m\u001b[37m\u001b[0m \u001b[1m6s\u001b[0m 86ms/step - loss: 0.9728\n",
      "Epoch 55/100\n",
      "\u001b[1m69/69\u001b[0m \u001b[32m━━━━━━━━━━━━━━━━━━━━\u001b[0m\u001b[37m\u001b[0m \u001b[1m6s\u001b[0m 88ms/step - loss: 0.9735\n",
      "Epoch 56/100\n",
      "\u001b[1m69/69\u001b[0m \u001b[32m━━━━━━━━━━━━━━━━━━━━\u001b[0m\u001b[37m\u001b[0m \u001b[1m6s\u001b[0m 93ms/step - loss: 1.0630\n",
      "Epoch 57/100\n",
      "\u001b[1m69/69\u001b[0m \u001b[32m━━━━━━━━━━━━━━━━━━━━\u001b[0m\u001b[37m\u001b[0m \u001b[1m6s\u001b[0m 89ms/step - loss: 1.0653\n",
      "Epoch 58/100\n",
      "\u001b[1m69/69\u001b[0m \u001b[32m━━━━━━━━━━━━━━━━━━━━\u001b[0m\u001b[37m\u001b[0m \u001b[1m6s\u001b[0m 86ms/step - loss: 0.9887\n",
      "Epoch 59/100\n",
      "\u001b[1m69/69\u001b[0m \u001b[32m━━━━━━━━━━━━━━━━━━━━\u001b[0m\u001b[37m\u001b[0m \u001b[1m6s\u001b[0m 86ms/step - loss: 0.9978\n",
      "Epoch 60/100\n",
      "\u001b[1m69/69\u001b[0m \u001b[32m━━━━━━━━━━━━━━━━━━━━\u001b[0m\u001b[37m\u001b[0m \u001b[1m6s\u001b[0m 86ms/step - loss: 0.9006\n",
      "Epoch 61/100\n",
      "\u001b[1m69/69\u001b[0m \u001b[32m━━━━━━━━━━━━━━━━━━━━\u001b[0m\u001b[37m\u001b[0m \u001b[1m6s\u001b[0m 93ms/step - loss: 1.0751\n",
      "Epoch 62/100\n",
      "\u001b[1m69/69\u001b[0m \u001b[32m━━━━━━━━━━━━━━━━━━━━\u001b[0m\u001b[37m\u001b[0m \u001b[1m6s\u001b[0m 88ms/step - loss: 1.0189\n",
      "Epoch 63/100\n",
      "\u001b[1m69/69\u001b[0m \u001b[32m━━━━━━━━━━━━━━━━━━━━\u001b[0m\u001b[37m\u001b[0m \u001b[1m6s\u001b[0m 91ms/step - loss: 0.9028\n",
      "Epoch 64/100\n",
      "\u001b[1m69/69\u001b[0m \u001b[32m━━━━━━━━━━━━━━━━━━━━\u001b[0m\u001b[37m\u001b[0m \u001b[1m6s\u001b[0m 88ms/step - loss: 0.9724\n",
      "Epoch 65/100\n",
      "\u001b[1m69/69\u001b[0m \u001b[32m━━━━━━━━━━━━━━━━━━━━\u001b[0m\u001b[37m\u001b[0m \u001b[1m6s\u001b[0m 87ms/step - loss: 0.9187\n",
      "Epoch 66/100\n",
      "\u001b[1m69/69\u001b[0m \u001b[32m━━━━━━━━━━━━━━━━━━━━\u001b[0m\u001b[37m\u001b[0m \u001b[1m6s\u001b[0m 87ms/step - loss: 1.0297\n",
      "Epoch 67/100\n",
      "\u001b[1m69/69\u001b[0m \u001b[32m━━━━━━━━━━━━━━━━━━━━\u001b[0m\u001b[37m\u001b[0m \u001b[1m6s\u001b[0m 90ms/step - loss: 1.0336\n",
      "Epoch 68/100\n",
      "\u001b[1m69/69\u001b[0m \u001b[32m━━━━━━━━━━━━━━━━━━━━\u001b[0m\u001b[37m\u001b[0m \u001b[1m6s\u001b[0m 90ms/step - loss: 0.9924\n",
      "Epoch 69/100\n",
      "\u001b[1m69/69\u001b[0m \u001b[32m━━━━━━━━━━━━━━━━━━━━\u001b[0m\u001b[37m\u001b[0m \u001b[1m6s\u001b[0m 87ms/step - loss: 0.9883\n",
      "Epoch 70/100\n",
      "\u001b[1m69/69\u001b[0m \u001b[32m━━━━━━━━━━━━━━━━━━━━\u001b[0m\u001b[37m\u001b[0m \u001b[1m6s\u001b[0m 87ms/step - loss: 1.0033\n",
      "Epoch 71/100\n",
      "\u001b[1m69/69\u001b[0m \u001b[32m━━━━━━━━━━━━━━━━━━━━\u001b[0m\u001b[37m\u001b[0m \u001b[1m6s\u001b[0m 89ms/step - loss: 1.0559\n",
      "Epoch 72/100\n",
      "\u001b[1m69/69\u001b[0m \u001b[32m━━━━━━━━━━━━━━━━━━━━\u001b[0m\u001b[37m\u001b[0m \u001b[1m6s\u001b[0m 93ms/step - loss: 1.0579\n",
      "Epoch 73/100\n",
      "\u001b[1m69/69\u001b[0m \u001b[32m━━━━━━━━━━━━━━━━━━━━\u001b[0m\u001b[37m\u001b[0m \u001b[1m6s\u001b[0m 90ms/step - loss: 0.9687\n",
      "Epoch 74/100\n",
      "\u001b[1m69/69\u001b[0m \u001b[32m━━━━━━━━━━━━━━━━━━━━\u001b[0m\u001b[37m\u001b[0m \u001b[1m6s\u001b[0m 87ms/step - loss: 1.0034\n",
      "Epoch 75/100\n",
      "\u001b[1m69/69\u001b[0m \u001b[32m━━━━━━━━━━━━━━━━━━━━\u001b[0m\u001b[37m\u001b[0m \u001b[1m6s\u001b[0m 86ms/step - loss: 0.9579\n",
      "Epoch 76/100\n",
      "\u001b[1m69/69\u001b[0m \u001b[32m━━━━━━━━━━━━━━━━━━━━\u001b[0m\u001b[37m\u001b[0m \u001b[1m6s\u001b[0m 87ms/step - loss: 0.9545\n",
      "Epoch 77/100\n",
      "\u001b[1m69/69\u001b[0m \u001b[32m━━━━━━━━━━━━━━━━━━━━\u001b[0m\u001b[37m\u001b[0m \u001b[1m6s\u001b[0m 93ms/step - loss: 0.9978\n",
      "Epoch 78/100\n",
      "\u001b[1m69/69\u001b[0m \u001b[32m━━━━━━━━━━━━━━━━━━━━\u001b[0m\u001b[37m\u001b[0m \u001b[1m6s\u001b[0m 90ms/step - loss: 0.9476\n",
      "Epoch 79/100\n",
      "\u001b[1m69/69\u001b[0m \u001b[32m━━━━━━━━━━━━━━━━━━━━\u001b[0m\u001b[37m\u001b[0m \u001b[1m6s\u001b[0m 86ms/step - loss: 1.0770\n",
      "Epoch 80/100\n",
      "\u001b[1m69/69\u001b[0m \u001b[32m━━━━━━━━━━━━━━━━━━━━\u001b[0m\u001b[37m\u001b[0m \u001b[1m6s\u001b[0m 86ms/step - loss: 1.0583\n",
      "Epoch 81/100\n",
      "\u001b[1m69/69\u001b[0m \u001b[32m━━━━━━━━━━━━━━━━━━━━\u001b[0m\u001b[37m\u001b[0m \u001b[1m6s\u001b[0m 88ms/step - loss: 0.9573\n",
      "Epoch 82/100\n",
      "\u001b[1m69/69\u001b[0m \u001b[32m━━━━━━━━━━━━━━━━━━━━\u001b[0m\u001b[37m\u001b[0m \u001b[1m6s\u001b[0m 89ms/step - loss: 0.9678\n",
      "Epoch 83/100\n",
      "\u001b[1m69/69\u001b[0m \u001b[32m━━━━━━━━━━━━━━━━━━━━\u001b[0m\u001b[37m\u001b[0m \u001b[1m6s\u001b[0m 91ms/step - loss: 0.9620\n",
      "Epoch 84/100\n",
      "\u001b[1m69/69\u001b[0m \u001b[32m━━━━━━━━━━━━━━━━━━━━\u001b[0m\u001b[37m\u001b[0m \u001b[1m6s\u001b[0m 86ms/step - loss: 0.9899\n",
      "Epoch 85/100\n",
      "\u001b[1m69/69\u001b[0m \u001b[32m━━━━━━━━━━━━━━━━━━━━\u001b[0m\u001b[37m\u001b[0m \u001b[1m6s\u001b[0m 86ms/step - loss: 1.0402\n",
      "Epoch 86/100\n",
      "\u001b[1m69/69\u001b[0m \u001b[32m━━━━━━━━━━━━━━━━━━━━\u001b[0m\u001b[37m\u001b[0m \u001b[1m6s\u001b[0m 86ms/step - loss: 0.9017\n",
      "Epoch 87/100\n",
      "\u001b[1m69/69\u001b[0m \u001b[32m━━━━━━━━━━━━━━━━━━━━\u001b[0m\u001b[37m\u001b[0m \u001b[1m6s\u001b[0m 86ms/step - loss: 1.0267\n",
      "Epoch 88/100\n",
      "\u001b[1m69/69\u001b[0m \u001b[32m━━━━━━━━━━━━━━━━━━━━\u001b[0m\u001b[37m\u001b[0m \u001b[1m7s\u001b[0m 97ms/step - loss: 1.0554\n",
      "Epoch 89/100\n",
      "\u001b[1m69/69\u001b[0m \u001b[32m━━━━━━━━━━━━━━━━━━━━\u001b[0m\u001b[37m\u001b[0m \u001b[1m6s\u001b[0m 87ms/step - loss: 1.0712\n",
      "Epoch 90/100\n",
      "\u001b[1m69/69\u001b[0m \u001b[32m━━━━━━━━━━━━━━━━━━━━\u001b[0m\u001b[37m\u001b[0m \u001b[1m6s\u001b[0m 85ms/step - loss: 0.9009\n",
      "Epoch 91/100\n",
      "\u001b[1m69/69\u001b[0m \u001b[32m━━━━━━━━━━━━━━━━━━━━\u001b[0m\u001b[37m\u001b[0m \u001b[1m6s\u001b[0m 88ms/step - loss: 0.9852\n",
      "Epoch 92/100\n",
      "\u001b[1m69/69\u001b[0m \u001b[32m━━━━━━━━━━━━━━━━━━━━\u001b[0m\u001b[37m\u001b[0m \u001b[1m6s\u001b[0m 87ms/step - loss: 0.9059\n",
      "Epoch 93/100\n",
      "\u001b[1m69/69\u001b[0m \u001b[32m━━━━━━━━━━━━━━━━━━━━\u001b[0m\u001b[37m\u001b[0m \u001b[1m7s\u001b[0m 96ms/step - loss: 0.9641\n",
      "Epoch 94/100\n",
      "\u001b[1m69/69\u001b[0m \u001b[32m━━━━━━━━━━━━━━━━━━━━\u001b[0m\u001b[37m\u001b[0m \u001b[1m6s\u001b[0m 87ms/step - loss: 0.9192\n",
      "Epoch 95/100\n",
      "\u001b[1m69/69\u001b[0m \u001b[32m━━━━━━━━━━━━━━━━━━━━\u001b[0m\u001b[37m\u001b[0m \u001b[1m6s\u001b[0m 86ms/step - loss: 1.0245\n",
      "Epoch 96/100\n",
      "\u001b[1m69/69\u001b[0m \u001b[32m━━━━━━━━━━━━━━━━━━━━\u001b[0m\u001b[37m\u001b[0m \u001b[1m6s\u001b[0m 87ms/step - loss: 0.9516\n",
      "Epoch 97/100\n",
      "\u001b[1m69/69\u001b[0m \u001b[32m━━━━━━━━━━━━━━━━━━━━\u001b[0m\u001b[37m\u001b[0m \u001b[1m6s\u001b[0m 86ms/step - loss: 0.9858\n",
      "Epoch 98/100\n",
      "\u001b[1m69/69\u001b[0m \u001b[32m━━━━━━━━━━━━━━━━━━━━\u001b[0m\u001b[37m\u001b[0m \u001b[1m7s\u001b[0m 95ms/step - loss: 0.9725\n",
      "Epoch 99/100\n",
      "\u001b[1m69/69\u001b[0m \u001b[32m━━━━━━━━━━━━━━━━━━━━\u001b[0m\u001b[37m\u001b[0m \u001b[1m6s\u001b[0m 87ms/step - loss: 1.0636\n",
      "Epoch 100/100\n",
      "\u001b[1m69/69\u001b[0m \u001b[32m━━━━━━━━━━━━━━━━━━━━\u001b[0m\u001b[37m\u001b[0m \u001b[1m6s\u001b[0m 87ms/step - loss: 0.9176\n"
     ]
    }
   ],
   "source": [
    "# モデルの作成\n",
    "model, att_model = create_model_with_attention()\n",
    "\n",
    "# 学習\n",
    "history = model.fit(x_train, y_train, batch_size=32, epochs=100)"
   ]
  },
  {
   "cell_type": "markdown",
   "id": "416eb513",
   "metadata": {
    "papermill": {
     "duration": 0.984223,
     "end_time": "2025-06-22T15:00:00.860440",
     "exception": false,
     "start_time": "2025-06-22T14:59:59.876217",
     "status": "completed"
    },
    "tags": []
   },
   "source": [
    "## 学習したBidirectional LSTMモデルでの予測 \n",
    "精度確認のため、以下の指標を表示  \n",
    "- 二乗平均平方根誤差RMSE\n",
    "- 決定係数R2\n",
    "- 的中率（誤差が指定範囲以内に収まった率）\n",
    "- 方向性一致率（変化率の正負が一致した率）"
   ]
  },
  {
   "cell_type": "code",
   "execution_count": 17,
   "id": "ec05a22c",
   "metadata": {
    "execution": {
     "iopub.execute_input": "2025-06-22T15:00:02.737465Z",
     "iopub.status.busy": "2025-06-22T15:00:02.737089Z",
     "iopub.status.idle": "2025-06-22T15:00:06.394966Z",
     "shell.execute_reply": "2025-06-22T15:00:06.393433Z"
    },
    "papermill": {
     "duration": 4.653141,
     "end_time": "2025-06-22T15:00:06.397344",
     "exception": false,
     "start_time": "2025-06-22T15:00:01.744203",
     "status": "completed"
    },
    "tags": []
   },
   "outputs": [
    {
     "name": "stdout",
     "output_type": "stream",
     "text": [
      "\u001b[1m18/18\u001b[0m \u001b[32m━━━━━━━━━━━━━━━━━━━━\u001b[0m\u001b[37m\u001b[0m \u001b[1m4s\u001b[0m 145ms/step\n",
      "平均  : 0.316[%]\n",
      "RMSE : 0.0193\n",
      "R²   : -0.0769\n",
      "的中率（予測誤差が閾値以内）:\n",
      "  ±0.1%以内: 6.24%\n",
      "  ±0.2%以内: 11.23%\n",
      "  ±0.5%以内: 26.92%\n",
      "方向性一致率: 55.26%\n"
     ]
    }
   ],
   "source": [
    "# 予測を実行\n",
    "predictions = model.predict(x_test)\n",
    "predicted = returns_scaler.inverse_transform(predictions)\n",
    "actual = returns_scaler.inverse_transform(y_test.reshape(-1, 1))\n",
    "\n",
    "# 評価指標の計算\n",
    "m_pred = np.mean(predicted) * 100  # %表示\n",
    "mse = mean_squared_error(actual, predicted)\n",
    "rmse = np.sqrt(mse)\n",
    "mae = mean_absolute_error(actual, predicted)\n",
    "r2 = r2_score(actual, predicted)\n",
    "\n",
    "# 結果表示\n",
    "print(f\"平均  : {m_pred:.3f}[%]\")\n",
    "# print(f\"MAE  : {mae:.4f}\")  # 平均絶対誤差: 0に近いほど良い\n",
    "print(f\"RMSE : {rmse:.4f}\")  # 二乗平均平方根誤差: 0に近いほど良い\n",
    "print(f\"R²   : {r2:.4f}\")    # 決定係数: 1に近いほど良い\n",
    "\n",
    "# 的中率（独自定義）を求める\n",
    "# 閾値リスト（パーセンテージ表記）\n",
    "thresholds = [0.001, 0.002, 0.005]\n",
    "\n",
    "print(\"的中率（予測誤差が閾値以内）:\")\n",
    "for threshold in thresholds:\n",
    "    errors = np.abs(predicted - actual)  # 絶対誤差を計算\n",
    "    hit_mask = errors <= threshold  # 的中条件\n",
    "    hit_rate = np.mean(hit_mask) * 100  # 的中率（%）を計算\n",
    "    print(f\"  ±{threshold*100:.1f}%以内: {hit_rate:.2f}%\")\n",
    "\n",
    "# 予測と実際の符号が一致しているか\n",
    "same_direction = np.sign(predicted) == np.sign(actual)\n",
    "directional_accuracy = np.mean(same_direction) * 100\n",
    "\n",
    "print(f\"方向性一致率: {directional_accuracy:.2f}%\")"
   ]
  },
  {
   "cell_type": "markdown",
   "id": "3de8b7c7",
   "metadata": {
    "papermill": {
     "duration": 0.964053,
     "end_time": "2025-06-22T15:00:08.162500",
     "exception": false,
     "start_time": "2025-06-22T15:00:07.198447",
     "status": "completed"
    },
    "tags": []
   },
   "source": [
    "## Attentionの可視化\n",
    "特定の入力に対する注意重み（各タイムステップへの注目度）を表示"
   ]
  },
  {
   "cell_type": "code",
   "execution_count": 18,
   "id": "b67b9fa5",
   "metadata": {
    "execution": {
     "iopub.execute_input": "2025-06-22T15:00:09.935413Z",
     "iopub.status.busy": "2025-06-22T15:00:09.934956Z",
     "iopub.status.idle": "2025-06-22T15:00:11.262221Z",
     "shell.execute_reply": "2025-06-22T15:00:11.260829Z"
    },
    "papermill": {
     "duration": 2.264175,
     "end_time": "2025-06-22T15:00:11.264390",
     "exception": false,
     "start_time": "2025-06-22T15:00:09.000215",
     "status": "completed"
    },
    "tags": []
   },
   "outputs": [
    {
     "name": "stdout",
     "output_type": "stream",
     "text": [
      "\u001b[1m1/1\u001b[0m \u001b[32m━━━━━━━━━━━━━━━━━━━━\u001b[0m\u001b[37m\u001b[0m \u001b[1m1s\u001b[0m 1s/step\n"
     ]
    },
    {
     "data": {
      "image/png": "[encoded data removed]",
      "text/plain": [
       "<Figure size 1000x400 with 1 Axes>"
      ]
     },
     "metadata": {},
     "output_type": "display_data"
    }
   ],
   "source": [
    "# X_sample: (1, 60, num_features) の1つのサンプルを渡す\n",
    "day_sample = []\n",
    "day_sample.append(x_test[300])\n",
    "X_sample = np.array(day_sample)\n",
    "\n",
    "attention_weights = att_model.predict(X_sample)\n",
    "\n",
    "# 可視化\n",
    "plt.figure(figsize=(10, 4))\n",
    "plt.plot(attention_weights[0])\n",
    "plt.title(\"Attention Weights by Time Step\")\n",
    "plt.xlabel(\"Time Step\")\n",
    "plt.ylabel(\"Attention Weight\")\n",
    "plt.show()"
   ]
  },
  {
   "cell_type": "markdown",
   "id": "94742349",
   "metadata": {
    "papermill": {
     "duration": 0.830108,
     "end_time": "2025-06-22T15:00:13.062266",
     "exception": false,
     "start_time": "2025-06-22T15:00:12.232158",
     "status": "completed"
    },
    "tags": []
   },
   "source": [
    "## 30日先までをマルチステップ予測"
   ]
  },
  {
   "cell_type": "code",
   "execution_count": 19,
   "id": "c685d7ca",
   "metadata": {
    "execution": {
     "iopub.execute_input": "2025-06-22T15:00:15.007937Z",
     "iopub.status.busy": "2025-06-22T15:00:15.007564Z",
     "iopub.status.idle": "2025-06-22T15:00:18.856328Z",
     "shell.execute_reply": "2025-06-22T15:00:18.854555Z"
    },
    "papermill": {
     "duration": 4.824033,
     "end_time": "2025-06-22T15:00:18.858009",
     "exception": false,
     "start_time": "2025-06-22T15:00:14.033976",
     "status": "completed"
    },
    "tags": []
   },
   "outputs": [
    {
     "name": "stdout",
     "output_type": "stream",
     "text": [
      "起点価格: 152.80\n",
      "予測された価格（最初の5日）: [152.8, 153.58767124898733, 154.09176580898287, 154.14014167274794, 159.93269521581954]\n"
     ]
    }
   ],
   "source": [
    "def predict_future_sequence(model, recent_data, window_size=60, future_days=30):\n",
    "    \"\"\"\n",
    "    model        : 学習済みのLSTMモデル（Keras）\n",
    "    recent_data  : 正規化された系列データ（scaled）で、shape=(window_size, 1)\n",
    "    window_size  : モデルの入力シーケンス長（通常は60）\n",
    "    future_days  : 何日先まで予測するか（通常は30）\n",
    "    \n",
    "    戻り値: 予測値のリスト（正規化済）\n",
    "    \"\"\"\n",
    "    predictions = []\n",
    "\n",
    "    # 予測に使うデータをコピー（書き換えないため）\n",
    "    input_seq = recent_data.copy()\n",
    "\n",
    "    for _ in range(future_days):\n",
    "        # モデルに入力するためshape変換: (1, window_size, x_train.shape[2])\n",
    "        x_input = np.reshape(input_seq, (1, window_size, x_train.shape[2]))\n",
    "\n",
    "        # 予測\n",
    "        pred = model.predict(x_input, verbose=0)\n",
    "        predictions.append(pred[0][0])  # スカラー値として保存\n",
    "\n",
    "        # input_seqを1つシフトして、予測値を末尾に追加\n",
    "        input_seq = np.append(input_seq[1:], [[pred[0][0]]], axis=0)\n",
    "\n",
    "    return predictions\n",
    "\n",
    "\n",
    "# 30日前からさかのぼって60日分（正規化済）のデータを準備\n",
    "last_60_scaled = feature_data[[\"returns\", \"Volume\", \"MACD_Histogram\", \"Signal\", \"RSI9\", \"RSI14\"]][-90:-30].to_numpy().reshape(-1, 1)  # shape=(60, 1)\n",
    "\n",
    "# 最後の30日をマルチステップ予測\n",
    "future_returns_scaled = predict_future_sequence(model, last_60_scaled, window_size=60, future_days=30)\n",
    "\n",
    "# 逆正規化\n",
    "future_returns = returns_scaler.inverse_transform(np.array(future_returns_scaled).reshape(-1, 1))\n",
    "\n",
    "# 最後の実際の価格\n",
    "last_price = dataset.iloc[-31]['Close']\n",
    "\n",
    "# リターンから株価へ変換\n",
    "future_preds = [last_price]\n",
    "for ret in future_returns:\n",
    "    next_price = future_preds[-1] * (1 + ret[0])\n",
    "    future_preds.append(next_price)\n",
    "\n",
    "# 先頭のlast_priceだけは実際の値であることに注意\n",
    "\n",
    "print(f\"起点価格: {last_price:.2f}\")\n",
    "print(f\"予測された価格（最初の5日）: {future_preds[:5]}\")"
   ]
  },
  {
   "cell_type": "markdown",
   "id": "0f51b078",
   "metadata": {
    "papermill": {
     "duration": 0.894325,
     "end_time": "2025-06-22T15:00:20.613875",
     "exception": false,
     "start_time": "2025-06-22T15:00:19.719550",
     "status": "completed"
    },
    "tags": []
   },
   "source": [
    "### 実際の株価とマルチステップ予測値をグラフで比較\n",
    "実際の株価＝Val  \n",
    "予測値＝Predictions"
   ]
  },
  {
   "cell_type": "code",
   "execution_count": 20,
   "id": "b4ae8416",
   "metadata": {
    "execution": {
     "iopub.execute_input": "2025-06-22T15:00:22.378811Z",
     "iopub.status.busy": "2025-06-22T15:00:22.378433Z",
     "iopub.status.idle": "2025-06-22T15:00:22.678069Z",
     "shell.execute_reply": "2025-06-22T15:00:22.676725Z"
    },
    "papermill": {
     "duration": 1.250394,
     "end_time": "2025-06-22T15:00:22.680127",
     "exception": false,
     "start_time": "2025-06-22T15:00:21.429733",
     "status": "completed"
    },
    "tags": []
   },
   "outputs": [
    {
     "data": {
      "image/png": "[encoded data removed]",
      "text/plain": [
       "<Figure size 1600x600 with 1 Axes>"
      ]
     },
     "metadata": {},
     "output_type": "display_data"
    }
   ],
   "source": [
    "train = data[:-30]\n",
    "valid = data[-31:].copy()  # コピーを作成 グラフをつなげるために31日前からのデータ\n",
    "valid['Predictions'] = future_preds\n",
    "\n",
    "plt.figure(figsize=(16, 6))\n",
    "plt.title('Model')\n",
    "plt.xlabel('Date', fontsize=14)\n",
    "plt.ylabel('Close Price USD ($)', fontsize=14)\n",
    "plt.plot(train['Close'][-30:], label='Train')\n",
    "plt.plot(valid['Close'], label='Val')\n",
    "plt.plot(valid['Predictions'], label='Predictions')\n",
    "plt.legend(loc='lower right')\n",
    "plt.show()"
   ]
  },
  {
   "cell_type": "markdown",
   "id": "13768f36",
   "metadata": {
    "papermill": {
     "duration": 0.825954,
     "end_time": "2025-06-22T15:00:24.476413",
     "exception": false,
     "start_time": "2025-06-22T15:00:23.650459",
     "status": "completed"
    },
    "tags": []
   },
   "source": [
    "## --- 2) 予測結果の評価 ---  \n",
    "LSTMのときとそれほど精度が上がっていない。  \n",
    "lossを見ると学習がまだ完了していないように見えるが、学習が安定していない。  \n",
    "  \n",
    "しかし方向性一致率＝57.04%など、評価指標を見ると悪いものではなかった。  \n",
    "アンサンブルの材料としては良い結果であった。"
   ]
  },
  {
   "cell_type": "markdown",
   "id": "72889465",
   "metadata": {
    "papermill": {
     "duration": 0.833699,
     "end_time": "2025-06-22T15:00:26.202268",
     "exception": false,
     "start_time": "2025-06-22T15:00:25.368569",
     "status": "completed"
    },
    "tags": []
   },
   "source": [
    "# 3) Transformer\n",
    "Informerは複雑なので、学習しやすく、概念が分かりやすいTransformerベースの標準的な構成  \n",
    "以下の動画を参考にした  \n",
    "https://youtu.be/LNydD9ZemZ8  \n",
    "### モデルの特徴\n",
    "- seq_len=60：過去60日分の入力\n",
    "- d_model=64：埋め込み後の次元\n",
    "- Multi‑Head Attention：自己注意によって各ステップの重要な相互関係を学習\n",
    "- 残差 + LayerNorm により深い学習が安定\n",
    "- GlobalAveragePooling によって時系列全体から意味ある特徴を抽出"
   ]
  },
  {
   "cell_type": "markdown",
   "id": "d5ebd99c",
   "metadata": {
    "papermill": {
     "duration": 0.840457,
     "end_time": "2025-06-22T15:00:27.931791",
     "exception": false,
     "start_time": "2025-06-22T15:00:27.091334",
     "status": "completed"
    },
    "tags": []
   },
   "source": [
    "ここで Transformer, Informer, Autoformer について、特徴を比較しておく。  \n",
    "  \n",
    "#### モデル　　　　　入力長\t　　　　特徴\t　　　　　　おすすめ用途  \n",
    "基本Transformer\t　60〜120　　自己注意による並列処理\t　中規模データ / 複数特徴量  \n",
    "Informer \t　　　　96〜512　　長期依存を捉えやすい　　　長期予測 / 大規模データ  \n",
    "Autoformer\t　　　96〜512　　傾向と周期性の分解　　　　季節性の強い時系列に◎"
   ]
  },
  {
   "cell_type": "code",
   "execution_count": 21,
   "id": "44d0ddb0",
   "metadata": {
    "execution": {
     "iopub.execute_input": "2025-06-22T15:00:29.757817Z",
     "iopub.status.busy": "2025-06-22T15:00:29.756489Z",
     "iopub.status.idle": "2025-06-22T15:00:29.762401Z",
     "shell.execute_reply": "2025-06-22T15:00:29.761369Z"
    },
    "papermill": {
     "duration": 0.881639,
     "end_time": "2025-06-22T15:00:29.764219",
     "exception": false,
     "start_time": "2025-06-22T15:00:28.882580",
     "status": "completed"
    },
    "tags": []
   },
   "outputs": [],
   "source": [
    "# import numpy as np\n",
    "# import tensorflow as tf\n",
    "# from tensorflow.keras import Input, Model\n",
    "# from tensorflow.keras.layers import Dense, LayerNormalization, Dropout\n",
    "# from tensorflow.keras.layers import MultiHeadAttention, GlobalAveragePooling1D\n",
    "\n",
    "# def build_transformer_model(seq_len=60, num_features=5, d_model=64, num_heads=4, ff_dim=128, dropout=0.1):\n",
    "#     inputs = Input(shape=(seq_len, num_features))\n",
    "#     x = Dense(d_model)(inputs)  # 埋め込み次元へ変換\n",
    "    \n",
    "#     # Encoder層\n",
    "#     attn_out = MultiHeadAttention(num_heads=num_heads, key_dim=d_model)(x, x)\n",
    "#     attn_out = Dropout(dropout)(attn_out)\n",
    "#     x = LayerNormalization()(x + attn_out)  # 残差接続 + 正規化\n",
    "    \n",
    "#     ff = Dense(ff_dim, activation=\"relu\")(x)\n",
    "#     ff = Dense(d_model)(ff)\n",
    "#     ff = Dropout(dropout)(ff)\n",
    "#     x = LayerNormalization()(x + ff)\n",
    "    \n",
    "#     x = GlobalAveragePooling1D()(x)  # 時系列平均\n",
    "#     x = Dropout(dropout)(x)\n",
    "#     outputs = Dense(1)(x)  # 次日株価予測\n",
    "    \n",
    "#     model = Model(inputs, outputs)\n",
    "#     model.compile(optimizer=\"adam\", loss=\"mse\")\n",
    "#     return model\n",
    "\n",
    "# model = build_transformer_model(seq_len=60, num_features=5)\n",
    "# model.summary()\n"
   ]
  }
 ],
 "metadata": {
  "kaggle": {
   "accelerator": "none",
   "dataSources": [],
   "dockerImageVersionId": 31040,
   "isGpuEnabled": false,
   "isInternetEnabled": true,
   "language": "python",
   "sourceType": "notebook"
  },
  "kernelspec": {
   "display_name": "Python 3",
   "language": "python",
   "name": "python3"
  },
  "language_info": {
   "codemirror_mode": {
    "name": "ipython",
    "version": 3
   },
   "file_extension": ".py",
   "mimetype": "text/x-python",
   "name": "python",
   "nbconvert_exporter": "python",
   "pygments_lexer": "ipython3",
   "version": "3.11.11"
  },
  "papermill": {
   "default_parameters": {},
   "duration": 1700.90836,
   "end_time": "2025-06-22T15:00:33.598466",
   "environment_variables": {},
   "exception": null,
   "input_path": "__notebook__.ipynb",
   "output_path": "__notebook__.ipynb",
   "parameters": {},
   "start_time": "2025-06-22T14:32:12.690106",
   "version": "2.6.0"
  }
 },
 "nbformat": 4,
 "nbformat_minor": 5
}
